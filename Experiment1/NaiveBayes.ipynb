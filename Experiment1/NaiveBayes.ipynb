{
 "cells": [
  {
   "cell_type": "code",
   "execution_count": 20,
   "metadata": {
    "collapsed": true
   },
   "outputs": [
    {
     "name": "stdout",
     "output_type": "stream",
     "text": [
      "['buying', 'maint', 'doors', 'persons', 'lug_boot', 'safety']\n训练集大小 1382\n测试集大小 345\n"
     ]
    }
   ],
   "source": [
    "#优化 进行预剪枝的决策树\n",
    "def getData(filename):\n",
    "    f = open(filename,'r')\n",
    "    datas = f.readlines()\n",
    "    label = datas[0].split(',')\n",
    "    del (label[6])\n",
    "    # label[len(label)-1] = label[len(label)-1].replace('\\n','')\n",
    "    data_set = []\n",
    "    for i in range(1,len(datas)):\n",
    "        temp = datas[i].split(',')\n",
    "        temp[len(temp) - 1] = temp[len(temp) - 1].replace('\\n', '')\n",
    "        data_set.append(temp)\n",
    "    return label,data_set\n",
    "\n",
    "label_set,data_set = getData('data/car_data.csv')\n",
    "\n",
    "print(label_set)\n",
    "#加载训练数据 80% 测试数据 20%\n",
    "train_list = data_set[0:1382]  # 训练集 数据\n",
    "test_list = data_set[1383:]  # 测试集 数据\n",
    "print('训练集大小',len(train_list))\n",
    "print('测试集大小',len(test_list))\n",
    "\n",
    "label_count = {'buying':4,'maint':4,'doors':4,'persons':3,'lug_boot':3,'safety':3}"
   ]
  },
  {
   "cell_type": "code",
   "execution_count": 21,
   "metadata": {
    "collapsed": true
   },
   "outputs": [
    {
     "name": "stdout",
     "output_type": "stream",
     "text": [
      "{'1': 303, '0': 977, '2': 51, '3': 51}\n{'1': 0.21933621933621933, '0': 0.7056277056277056, '2': 0.03751803751803752, '3': 0.03751803751803752}\n"
     ]
    }
   ],
   "source": [
    "def training(features, targets):\n",
    "    # 计算各类别的样本个数\n",
    "    label_count = {}\n",
    "    for classify in targets:\n",
    "        if classify not in label_count.keys():\n",
    "            label_count[classify] = 0\n",
    "        label_count[classify] += 1\n",
    "    print(label_count)\n",
    "\n",
    "    k = len(label_count.keys())  # 类别数\n",
    "    # feature 的 m行  n列\n",
    "    m = len(features)\n",
    "    n = len(features[0])\n",
    "\n",
    "    # 计算先验概率  每一类出现的概率\n",
    "    lamb = 1  # 平滑处理的参数  拉普拉斯修正\n",
    "    prior = dict()  # 存储先验概率\n",
    "\n",
    "    for label, amount in label_count.items():\n",
    "        prior[label] = (amount + lamb) / (m + k * lamb)  # 计算平滑处理后的先验概率 拉普拉斯修正\n",
    "\n",
    "    print(prior)\n",
    "\n",
    "    conditional = dict()  # 存储条件概率\n",
    "    for feature in range(n):  # 遍历每个特征\n",
    "        conditional[feature] = {}\n",
    "        values = []  # 存放 每一个特征有多少种取值\n",
    "        for data in features:\n",
    "            if data[feature] not in values:\n",
    "                values.append(data[feature])\n",
    "        for value in values:  # 遍历每个特征值\n",
    "            conditional[feature][value] = {}  # 第i的特征的取值value\n",
    "            for label, amount in label_count.items():  # 遍历每种类别\n",
    "                # 截取该类别的数据集\n",
    "                feature_label = []  # 存储类别为label的数据集\n",
    "                for j in range(0, m):\n",
    "                    if label == targets[j]:\n",
    "                        feature_label.append(features[j])\n",
    "                # 计算该类别下各特征值出现的次数\n",
    "                c_label = {}  # 存放该类别下 每一个特征值出现的次数\n",
    "                for data in feature_label:\n",
    "                    if data[feature] not in c_label.keys():\n",
    "                        c_label[data[feature]] = 0\n",
    "                    c_label[data[feature]] += 1\n",
    "                # 计算平滑处理后的条件概率  拉普拉斯修正\n",
    "                conditional[feature][value][label] = (c_label.get(value, 0) + lamb) / \\\n",
    "                                                     (amount + len(values) * lamb)  # 计算平滑处理后的条件概率\n",
    "\n",
    "    return prior, conditional\n",
    "\n",
    "features = []  # 数据在每一纬度的特征   特征集m*n,m为样本数,n为特征数\n",
    "target = []  # 数据的真实分类   标签集\n",
    "for data in train_list:\n",
    "    features.append(data[0:-1])\n",
    "    target.append(data[-1])\n",
    "prior, conditional = training(features, target)  # 计算 先验概率  条件概率\n"
   ]
  },
  {
   "cell_type": "code",
   "execution_count": 22,
   "metadata": {},
   "outputs": [
    {
     "name": "stdout",
     "output_type": "stream",
     "text": [
      "测试集总数 345\n正确分类数 285\n错误分类数 60\n分类的准确率为 0.8260869565217391\n"
     ]
    }
   ],
   "source": [
    "def predict(test, prior, conditional):\n",
    "    \"\"\"预测单个样本\"\"\"\n",
    "    best_poster, best_label = -np.inf, -1\n",
    "    for label in prior:\n",
    "        # 初始化后验概率为先验概率,同时把连乘换成取对数相加，防止下溢（即太多小于1的数相乘，结果会变成0）\n",
    "        poster = np.log(prior[label])\n",
    "        for i in range(0, len(test)-1):\n",
    "            # 第i个特征（第i列） 取值为test[i]  类别为label 的条件概率   由于取了对数 所以加变成了乘\n",
    "            poster += np.log(conditional[i][test[i]][label])\n",
    "        if poster > best_poster:  # 获取后验概率最大的类别\n",
    "            best_poster = poster\n",
    "            best_label = label\n",
    "    return best_label\n",
    "\n",
    "\n",
    "pos_count = 0  # 正确分类数量\n",
    "neg_count = 0  # 错误分类数量\n",
    "classify_result_list = []  # 存储分类结果\n",
    "for test in test_list:\n",
    "    classify_result = predict(test, prior, conditional)\n",
    "    classify_result_list.append(classify_result)\n",
    "\n",
    "for i in range(0, len(classify_result_list)):\n",
    "    if classify_result_list[i] == test_list[i][6]:\n",
    "        pos_count += 1\n",
    "    else:\n",
    "        neg_count += 1\n",
    "print('测试集总数', len(test_list))\n",
    "print('正确分类数', pos_count)\n",
    "print('错误分类数', neg_count)\n",
    "print('分类的准确率为', pos_count / len(test_list))"
   ]
  },
  {
   "cell_type": "code",
   "execution_count": 24,
   "metadata": {},
   "outputs": [
    {
     "name": "stdout",
     "output_type": "stream",
     "text": [
      "对于结果为unacc  即数据集中classify 为0的   构建混淆矩阵 计算准确率 精度 召回率 F 度量\n准确率———— 0.7357142857142858\n精度(查准率) ———— 0.6957928802588996\n召回率(查全率)———— 0.7357142857142858\nf1值 ———— 0.7948243992606284\n"
     ]
    },
    {
     "data": {
      "image/png": "[encoded data removed]",
      "text/plain": [
       "<Figure size 324x144 with 1 Axes>"
      ]
     },
     "metadata": {},
     "output_type": "display_data"
    }
   ],
   "source": [
    "#对于结果为unacc  classify 为0  构建混淆矩阵 计算准确率 精度 召回率 F 度量\n",
    "print('对于结果为unacc  即数据集中classify 为0的   构建混淆矩阵 计算准确率 精度 召回率 F 度量')\n",
    "tp, fp, fn, tn = 0, 0, 0, 0\n",
    "#tp 为预测结果为0 且真实为0的数据   将一个正例正确判断为正例\n",
    "#fp 为预测结果为0 且真实为1，2，3的数据    将一个反例错误判断为正例\n",
    "#fn 为预测结果为1，2，3 且真实为0的数据     将一个正例错误判断为反例\n",
    "#tn 为预测结果为1，2，3 且真实为1，2，3的数据   将一个反例正确判断为反例\n",
    "for i in range(0,len(classify_result_list)):\n",
    "    if test_list[i][6] == '0' and  classify_result_list[i] == '0':\n",
    "        tp += 1\n",
    "    if test_list[i][6] == '0' and  classify_result_list[i] != '0':\n",
    "        fn += 1\n",
    "    if test_list[i][6] != '0' and  classify_result_list[i] != '0':\n",
    "        fp += 1\n",
    "    if test_list[i][6] != '0' and  classify_result_list[i] != '0':\n",
    "        tn += 1\n",
    "            \n",
    "            \n",
    "#混淆矩阵\n",
    "from matplotlib import pyplot as plt\n",
    "col_labels = ['positive','negative']\n",
    "\n",
    "row_labels = ['positive','negative']\n",
    "R, C = len(row_labels), len(col_labels)\n",
    "figC, figR = 2.25*C, R\n",
    "fig = plt.figure(figsize=(figC, figR))\n",
    "ax = fig.add_subplot(111, frameon=True, xticks=[], yticks=[])\n",
    "ax.spines['top'].set_visible(False)\n",
    "ax.spines['right'].set_visible(False)\n",
    "ax.spines['bottom'].set_visible(False)\n",
    "ax.spines['left'].set_visible(False)\n",
    "\n",
    "table_vals = [['TP-'+str(tp),'FN-'+str(fn)],['FP-'+str(fp),'TN-'+str(tn)]]\n",
    "my_table = plt.table(cellText=table_vals, rowLabels=row_labels, \n",
    "                     colLabels=col_labels, \n",
    "                     rowLoc='center', loc='center',cellLoc='center')\n",
    "my_table.set_fontsize(20)\n",
    "    \n",
    "    # 伸缩表格大小常数\n",
    "my_table.scale(figR/R*2 ,figC/C*1.5)\n",
    "#准确率   分类正确的样本数占样本总数的比例\n",
    "accuracy = (tp + tn) / (tp + tn + fp + fn)\n",
    "print('准确率————',accuracy)\n",
    "\n",
    "#精度   预测为正例的样本中真正为正例的比例：\n",
    "precision = (tp) / (tp+fp)\n",
    "print('精度(查准率) ————',precision)\n",
    "#召回率  真正为正例的样本中正确预测为正例的比例：\n",
    "recall = (tp) / (tp+fn)\n",
    "print('召回率(查全率)————',accuracy)\n",
    "#f值 \n",
    "f1 = (2*precision*recall) / (precision+recall)\n",
    "print('f1值 ————',f1)\n",
    "\n",
    "\n",
    "            \n",
    "            \n",
    "       \n"
   ]
  },
  {
   "cell_type": "code",
   "execution_count": 25,
   "metadata": {},
   "outputs": [
    {
     "name": "stdout",
     "output_type": "stream",
     "text": [
      "对于结果为acc  即数据集中classify 为1的   构建混淆矩阵 计算准确率 精度 召回率 F 度量\n准确率———— 0.5384615384615384\n精度(查准率) ———— 0.21254355400696864\n召回率(查全率)———— 0.5384615384615384\nf1值 ———— 0.3315217391304348\n"
     ]
    },
    {
     "data": {
      "image/png": "[encoded data removed]",
      "text/plain": [
       "<Figure size 324x144 with 1 Axes>"
      ]
     },
     "metadata": {},
     "output_type": "display_data"
    }
   ],
   "source": [
    "#对于结果为acc  classify 为1  构建混淆矩阵 计算准确率 精度 召回率 F 度量\n",
    "print('对于结果为acc  即数据集中classify 为1的   构建混淆矩阵 计算准确率 精度 召回率 F 度量')\n",
    "tp, fp, fn, tn = 0, 0, 0, 0\n",
    "#tp 为预测结果为1 且真实为1的数据   将一个正例正确判断为正例\n",
    "#fp 为预测结果为1 且真实为0，2，3的数据    将一个反例错误判断为正例\n",
    "#fn 为预测结果为0，2，3 且真实为1的数据     将一个正例错误判断为反例\n",
    "#tn 为预测结果为0，2，3 且真实为0，2，3的数据   将一个反例正确判断为反例\n",
    "for i in range(0,len(classify_result_list)):\n",
    "    if test_list[i][6] == '1' and  classify_result_list[i] == '1':\n",
    "        tp += 1\n",
    "    if test_list[i][6] == '1' and  classify_result_list[i] != '1':\n",
    "        fn += 1\n",
    "    if test_list[i][6] != '1' and  classify_result_list[i] != '1':\n",
    "        fp += 1\n",
    "    if test_list[i][6] != '1' and  classify_result_list[i] != '1':\n",
    "        tn += 1\n",
    "            \n",
    "            \n",
    "#混淆矩阵\n",
    "from matplotlib import pyplot as plt\n",
    "col_labels = ['positive','negative']\n",
    "\n",
    "row_labels = ['positive','negative']\n",
    "R, C = len(row_labels), len(col_labels)\n",
    "figC, figR = 2.25*C, R\n",
    "fig = plt.figure(figsize=(figC, figR))\n",
    "ax = fig.add_subplot(111, frameon=True, xticks=[], yticks=[])\n",
    "ax.spines['top'].set_visible(False)\n",
    "ax.spines['right'].set_visible(False)\n",
    "ax.spines['bottom'].set_visible(False)\n",
    "ax.spines['left'].set_visible(False)\n",
    "\n",
    "table_vals = [['TP-'+str(tp),'FN-'+str(fn)],['FP-'+str(fp),'TN-'+str(tn)]]\n",
    "my_table = plt.table(cellText=table_vals, rowLabels=row_labels, \n",
    "                     colLabels=col_labels, \n",
    "                     rowLoc='center', loc='center',cellLoc='center')\n",
    "my_table.set_fontsize(20)\n",
    "    \n",
    "    # 伸缩表格大小常数\n",
    "my_table.scale(figR/R*2 ,figC/C*1.5)\n",
    "#准确率   分类正确的样本数占样本总数的比例\n",
    "accuracy = (tp + tn) / (tp + tn + fp + fn)\n",
    "print('准确率————',accuracy)\n",
    "\n",
    "#精度   预测为正例的样本中真正为正例的比例：\n",
    "precision = (tp) / (tp+fp)\n",
    "print('精度(查准率) ————',precision)\n",
    "#召回率  真正为正例的样本中正确预测为正例的比例：\n",
    "recall = (tp) / (tp+fn)\n",
    "print('召回率(查全率)————',accuracy)\n",
    "#f值 \n",
    "f1 = (2*precision*recall) / (precision+recall)\n",
    "print('f1值 ————',f1)"
   ]
  },
  {
   "cell_type": "code",
   "execution_count": 26,
   "metadata": {},
   "outputs": [
    {
     "name": "stdout",
     "output_type": "stream",
     "text": [
      "对于结果为good  即数据集中classify 为2的   构建混淆矩阵 计算准确率 精度 召回率 F 度量\n准确率———— 0.49101796407185627\n精度(查准率) ———— 0.009146341463414634\n召回率(查全率)———— 0.49101796407185627\nf1值 ———— 0.017341040462427744\n"
     ]
    },
    {
     "data": {
      "image/png": "[encoded data removed]",
      "text/plain": [
       "<Figure size 324x144 with 1 Axes>"
      ]
     },
     "metadata": {},
     "output_type": "display_data"
    }
   ],
   "source": [
    "#对于结果为good  classify 为2  构建混淆矩阵 计算准确率 精度 召回率 F 度量\n",
    "print('对于结果为good  即数据集中classify 为2的   构建混淆矩阵 计算准确率 精度 召回率 F 度量')\n",
    "tp, fp, fn, tn = 0, 0, 0, 0\n",
    "#tp 为预测结果为2 且真实为2的数据   将一个正例正确判断为正例\n",
    "#fp 为预测结果为2 且真实为0，1，3的数据    将一个反例错误判断为正例\n",
    "#fn 为预测结果为0，1，3 且真实为2的数据     将一个正例错误判断为反例\n",
    "#tn 为预测结果为0，1，3 且真实为0，1，3的数据   将一个反例正确判断为反例\n",
    "for i in range(0,len(classify_result_list)):\n",
    "    if test_list[i][6] == '2' and  classify_result_list[i] == '2':\n",
    "        tp += 1\n",
    "    if test_list[i][6] == '2' and  classify_result_list[i] != '2':\n",
    "        fn += 1\n",
    "    if test_list[i][6] != '2' and  classify_result_list[i] != '2':\n",
    "        fp += 1\n",
    "    if test_list[i][6] != '2' and  classify_result_list[i] != '2':\n",
    "        tn += 1\n",
    "            \n",
    "            \n",
    "#混淆矩阵\n",
    "from matplotlib import pyplot as plt\n",
    "col_labels = ['positive','negative']\n",
    "\n",
    "row_labels = ['positive','negative']\n",
    "R, C = len(row_labels), len(col_labels)\n",
    "figC, figR = 2.25*C, R\n",
    "fig = plt.figure(figsize=(figC, figR))\n",
    "ax = fig.add_subplot(111, frameon=True, xticks=[], yticks=[])\n",
    "ax.spines['top'].set_visible(False)\n",
    "ax.spines['right'].set_visible(False)\n",
    "ax.spines['bottom'].set_visible(False)\n",
    "ax.spines['left'].set_visible(False)\n",
    "\n",
    "table_vals = [['TP-'+str(tp),'FN-'+str(fn)],['FP-'+str(fp),'TN-'+str(tn)]]\n",
    "my_table = plt.table(cellText=table_vals, rowLabels=row_labels, \n",
    "                     colLabels=col_labels, \n",
    "                     rowLoc='center', loc='center',cellLoc='center')\n",
    "my_table.set_fontsize(20)\n",
    "    \n",
    "    # 伸缩表格大小常数\n",
    "my_table.scale(figR/R*2 ,figC/C*1.5)\n",
    "#准确率   分类正确的样本数占样本总数的比例\n",
    "accuracy = (tp + tn) / (tp + tn + fp + fn)\n",
    "print('准确率————',accuracy)\n",
    "\n",
    "#精度   预测为正例的样本中真正为正例的比例：\n",
    "precision = (tp) / (tp+fp)\n",
    "print('精度(查准率) ————',precision)\n",
    "#召回率  真正为正例的样本中正确预测为正例的比例：\n",
    "recall = (tp) / (tp+fn)\n",
    "print('召回率(查全率)————',accuracy)\n",
    "#f值 \n",
    "if 2*precision*recall == 0:\n",
    "    print('f1值 ————',0.0)\n",
    "else:\n",
    "    f1 = (2*precision*recall) / (precision+recall)\n",
    "    print('f1值 ————',f1)"
   ]
  },
  {
   "cell_type": "code",
   "execution_count": 27,
   "metadata": {},
   "outputs": [
    {
     "name": "stdout",
     "output_type": "stream",
     "text": [
      "对于结果为vgood  即数据集中classify 为3的   构建混淆矩阵 计算准确率 精度 召回率 F 度量\n准确率———— 0.49851632047477745\n精度(查准率) ———— 0.017857142857142856\n召回率(查全率)———— 0.49851632047477745\nf1值 ———— 0.03428571428571428\n"
     ]
    },
    {
     "data": {
      "image/png": "[encoded data removed]",
      "text/plain": [
       "<Figure size 324x144 with 1 Axes>"
      ]
     },
     "metadata": {},
     "output_type": "display_data"
    }
   ],
   "source": [
    "#对于结果为vgood  classify 为3  构建混淆矩阵 计算准确率 精度 召回率 F 度量\n",
    "print('对于结果为vgood  即数据集中classify 为3的   构建混淆矩阵 计算准确率 精度 召回率 F 度量')\n",
    "tp, fp, fn, tn = 0, 0, 0, 0\n",
    "#tp 为预测结果为2 且真实为2的数据   将一个正例正确判断为正例\n",
    "#fp 为预测结果为2 且真实为0，1，3的数据    将一个反例错误判断为正例\n",
    "#fn 为预测结果为0，1，3 且真实为2的数据     将一个正例错误判断为反例\n",
    "#tn 为预测结果为0，1，3 且真实为0，1，3的数据   将一个反例正确判断为反例\n",
    "for i in range(0,len(classify_result_list)):\n",
    "    if test_list[i][6] == '3' and  classify_result_list[i] == '3':\n",
    "        tp += 1\n",
    "    if test_list[i][6] == '3' and  classify_result_list[i] != '3':\n",
    "        fn += 1\n",
    "    if test_list[i][6] != '3' and  classify_result_list[i] != '3':\n",
    "        fp += 1\n",
    "    if test_list[i][6] != '3' and  classify_result_list[i] != '3':\n",
    "        tn += 1\n",
    "            \n",
    "            \n",
    "#混淆矩阵\n",
    "from matplotlib import pyplot as plt\n",
    "col_labels = ['positive','negative']\n",
    "\n",
    "row_labels = ['positive','negative']\n",
    "R, C = len(row_labels), len(col_labels)\n",
    "figC, figR = 2.25*C, R\n",
    "fig = plt.figure(figsize=(figC, figR))\n",
    "ax = fig.add_subplot(111, frameon=True, xticks=[], yticks=[])\n",
    "ax.spines['top'].set_visible(False)\n",
    "ax.spines['right'].set_visible(False)\n",
    "ax.spines['bottom'].set_visible(False)\n",
    "ax.spines['left'].set_visible(False)\n",
    "\n",
    "table_vals = [['TP-'+str(tp),'FN-'+str(fn)],['FP-'+str(fp),'TN-'+str(tn)]]\n",
    "my_table = plt.table(cellText=table_vals, rowLabels=row_labels, \n",
    "                     colLabels=col_labels, \n",
    "                     rowLoc='center', loc='center',cellLoc='center')\n",
    "my_table.set_fontsize(20)\n",
    "    \n",
    "    # 伸缩表格大小常数\n",
    "my_table.scale(figR/R*2 ,figC/C*1.5)\n",
    "#准确率   分类正确的样本数占样本总数的比例\n",
    "accuracy = (tp + tn) / (tp + tn + fp + fn)\n",
    "print('准确率————',accuracy)\n",
    "\n",
    "#精度   预测为正例的样本中真正为正例的比例：\n",
    "precision = (tp) / (tp+fp)\n",
    "print('精度(查准率) ————',precision)\n",
    "#召回率  真正为正例的样本中正确预测为正例的比例：\n",
    "recall = (tp) / (tp+fn)\n",
    "print('召回率(查全率)————',accuracy)\n",
    "#f值\n",
    "if 2*precision*recall == 0:\n",
    "    print('f1值 ————',0.0)\n",
    "else:\n",
    "    f1 = (2*precision*recall) / (precision+recall)\n",
    "    print('f1值 ————',f1)"
   ]
  },
  {
   "cell_type": "code",
   "execution_count": null,
   "metadata": {},
   "outputs": [],
   "source": []
  }
 ],
 "metadata": {
  "kernelspec": {
   "display_name": "Python 2",
   "language": "python",
   "name": "python2"
  },
  "language_info": {
   "codemirror_mode": {
    "name": "ipython",
    "version": 2
   },
   "file_extension": ".py",
   "mimetype": "text/x-python",
   "name": "python",
   "nbconvert_exporter": "python",
   "pygments_lexer": "ipython2",
   "version": "2.7.6"
  }
 },
 "nbformat": 4,
 "nbformat_minor": 0
}

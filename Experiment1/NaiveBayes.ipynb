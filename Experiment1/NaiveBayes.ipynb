{
 "cells": [
  {
   "cell_type": "code",
   "execution_count": 1,
   "metadata": {
    "collapsed": true
   },
   "outputs": [
    {
     "name": "stdout",
     "output_type": "stream",
     "text": [
      "['buying', 'maint', 'doors', 'persons', 'lug_boot', 'safety']\n训练集大小 1382\n测试集大小 345\n"
     ]
    }
   ],
   "source": [
    "#优化 进行预剪枝的决策树\n",
    "def getData(filename):\n",
    "    f = open(filename,'r')\n",
    "    datas = f.readlines()\n",
    "    label = datas[0].split(',')\n",
    "    del (label[6])\n",
    "    # label[len(label)-1] = label[len(label)-1].replace('\\n','')\n",
    "    data_set = []\n",
    "    for i in range(1,len(datas)):\n",
    "        temp = datas[i].split(',')\n",
    "        temp[len(temp) - 1] = temp[len(temp) - 1].replace('\\n', '')\n",
    "        data_set.append(temp)\n",
    "    return label,data_set\n",
    "\n",
    "label_set,data_set = getData('Experiment1/data/car_data.csv')\n",
    "\n",
    "print(label_set)\n",
    "#加载训练数据 80% 测试数据 20%\n",
    "train_list = data_set[0:1382]  # 训练集 数据\n",
    "test_list = data_set[1383:]  # 测试集 数据\n",
    "print('训练集大小',len(train_list))\n",
    "print('测试集大小',len(test_list))\n",
    "\n",
    "label_count = {'buying':4,'maint':4,'doors':4,'persons':3,'lug_boot':3,'safety':3}"
   ]
  },
  {
   "cell_type": "code",
   "execution_count": 10,
   "metadata": {
    "collapsed": true
   },
   "outputs": [
    {
     "name": "stdout",
     "output_type": "stream",
     "text": [
      "先验概率\n{'acc': 0.227994227994228, 'unacc': 0.6926406926406926, 'good': 0.04184704184704185, 'vgood': 0.03751803751803752}\n条件概率\n{0: {'high': {'acc': 0.27586206896551724, 'unacc': 0.2751817237798546, 'good': 0.01639344262295082, 'vgood': 0.01818181818181818}, 'low': {'acc': 0.22570532915360503, 'unacc': 0.2087227414330218, 'good': 0.639344262295082, 'vgood': 0.5636363636363636}, 'vhigh': {'acc': 0.19435736677115986, 'unacc': 0.30218068535825543, 'good': 0.01639344262295082, 'vgood': 0.01818181818181818}, 'med': {'acc': 0.30407523510971785, 'unacc': 0.21391484942886813, 'good': 0.32786885245901637, 'vgood': 0.4}}, 1: {'low': {'acc': 0.23510971786833856, 'unacc': 0.22533748701973, 'good': 0.6557377049180327, 'vgood': 0.41818181818181815}, 'vhigh': {'acc': 0.1786833855799373, 'unacc': 0.2949117341640706, 'good': 0.01639344262295082, 'vgood': 0.01818181818181818}, 'med': {'acc': 0.3103448275862069, 'unacc': 0.22741433021806853, 'good': 0.3114754098360656, 'vgood': 0.38181818181818183}, 'high': {'acc': 0.27586206896551724, 'unacc': 0.2523364485981308, 'good': 0.01639344262295082, 'vgood': 0.18181818181818182}}, 2: {'5more': {'acc': 0.2852664576802508, 'unacc': 0.2336448598130841, 'good': 0.29508196721311475, 'vgood': 0.3090909090909091}, '3': {'acc': 0.25391849529780564, 'unacc': 0.24714434060228452, 'good': 0.21311475409836064, 'vgood': 0.23636363636363636}, '4': {'acc': 0.2601880877742947, 'unacc': 0.2367601246105919, 'good': 0.2786885245901639, 'vgood': 0.3090909090909091}, '2': {'acc': 0.2006269592476489, 'unacc': 0.2824506749740395, 'good': 0.21311475409836064, 'vgood': 0.14545454545454545}}, 3: {'more': {'acc': 0.48742138364779874, 'unacc': 0.27442827442827444, 'good': 0.48333333333333334, 'vgood': 0.5185185185185185}, '4': {'acc': 0.5094339622641509, 'unacc': 0.262993762993763, 'good': 0.5, 'vgood': 0.46296296296296297}, '2': {'acc': 0.0031446540880503146, 'unacc': 0.4625779625779626, 'good': 0.016666666666666666, 'vgood': 0.018518518518518517}}, 4: {'big': {'acc': 0.3867924528301887, 'unacc': 0.30145530145530147, 'good': 0.38333333333333336, 'vgood': 0.5740740740740741}, 'small': {'acc': 0.2672955974842767, 'unacc': 0.37733887733887733, 'good': 0.26666666666666666, 'vgood': 0.018518518518518517}, 'med': {'acc': 0.34591194968553457, 'unacc': 0.3212058212058212, 'good': 0.35, 'vgood': 0.4074074074074074}}, 5: {'med': {'acc': 0.48742138364779874, 'unacc': 0.288981288981289, 'good': 0.6, 'vgood': 0.018518518518518517}, 'high': {'acc': 0.5094339622641509, 'unacc': 0.22765072765072766, 'good': 0.38333333333333336, 'vgood': 0.9629629629629629}, 'low': {'acc': 0.0031446540880503146, 'unacc': 0.48336798336798337, 'good': 0.016666666666666666, 'vgood': 0.018518518518518517}}}\n"
     ]
    }
   ],
   "source": [
    "def training(features, targets):\n",
    "    # 计算各类别的样本个数\n",
    "    label_count = {}\n",
    "    for classify in targets:\n",
    "        if classify not in label_count.keys():\n",
    "            label_count[classify] = 0\n",
    "        label_count[classify] += 1\n",
    "    k = len(label_count.keys())  # 类别数\n",
    "    # feature 的 m行  n列\n",
    "    m = len(features)\n",
    "    n = len(features[0])\n",
    "    # 计算先验概率  每一类出现的概率\n",
    "    lamb = 1  # 平滑处理的参数  拉普拉斯修正\n",
    "    prior = dict()  # 存储先验概率\n",
    "\n",
    "    for label, amount in label_count.items():\n",
    "        prior[label] = (amount + lamb) / (m + k * lamb)  # 计算平滑处理后的先验概率 拉普拉斯修正\n",
    "\n",
    "\n",
    "    conditional = dict()  # 存储条件概率\n",
    "    for feature in range(n):  # 遍历每个特征\n",
    "        conditional[feature] = {}\n",
    "        values = []  # 存放 每一个特征有多少种取值\n",
    "        for data in features:\n",
    "            if data[feature] not in values:\n",
    "                values.append(data[feature])\n",
    "        for value in values:  # 遍历特征值的每一个取值\n",
    "            conditional[feature][value] = {}  # 第i的特征的取值value\n",
    "            for label, amount in label_count.items():  # 遍历每种类别\n",
    "                # 截取该类别的数据集\n",
    "                feature_label = []  # 存储类别为label的数据集\n",
    "                for j in range(0, m):\n",
    "                    if label == targets[j]:\n",
    "                        feature_label.append(features[j])\n",
    "                # 计算该类别下各特征值出现的次数\n",
    "                c_label = {}  # 存放该类别下 每一个特征值出现的次数\n",
    "                for data in feature_label:\n",
    "                    if data[feature] not in c_label.keys():\n",
    "                        c_label[data[feature]] = 0\n",
    "                    c_label[data[feature]] += 1\n",
    "                # 计算平滑处理后的条件概率  拉普拉斯修正\n",
    "                conditional[feature][value][label] = (c_label.get(value, 0) + lamb) / \\\n",
    "                                                     (amount + len(values) * lamb)  # 计算平滑处理后的条件概率\n",
    "\n",
    "    return prior, conditional\n",
    "\n",
    "features = []  # 数据在每一纬度的特征   特征集m*n,m为样本数,n为特征数\n",
    "target = []  # 数据的真实分类   标签集\n",
    "for data in train_list:\n",
    "    features.append(data[0:-1])\n",
    "    target.append(data[-1])\n",
    "prior, conditional = training(features, target)  # 计算 先验概率  条件概率\n",
    "print(\"先验概率\")\n",
    "print(prior)\n",
    "print(\"条件概率\")\n",
    "print(conditional)\n"
   ]
  },
  {
   "cell_type": "code",
   "execution_count": 4,
   "metadata": {},
   "outputs": [
    {
     "name": "stdout",
     "output_type": "stream",
     "text": [
      "测试集总数 345\n正确分类数 294\n错误分类数 51\n分类的准确率为 0.8521739130434782\n"
     ]
    }
   ],
   "source": [
    "def predict(test, prior, conditional):\n",
    "    \"\"\"预测单个样本\"\"\"\n",
    "    best_poster, best_label = -np.inf, -1\n",
    "    for label in prior:\n",
    "        # 初始化后验概率为先验概率,同时把连乘换成取对数相加，防止下溢（即太多小于1的数相乘，结果会变成0）\n",
    "        poster = np.log(prior[label])\n",
    "        for i in range(0, len(test)-1):\n",
    "            # 第i个特征（第i列） 取值为test[i]  类别为label 的条件概率   由于取了对数 所以加变成了乘\n",
    "            poster += np.log(conditional[i][test[i]][label])\n",
    "        if poster > best_poster:  # 获取后验概率最大的类别\n",
    "            best_poster = poster\n",
    "            best_label = label\n",
    "    return best_label\n",
    "\n",
    "\n",
    "pos_count = 0  # 正确分类数量\n",
    "neg_count = 0  # 错误分类数量\n",
    "import numpy as np\n",
    "classify_result_list = []  # 存储分类结果\n",
    "for test in test_list:\n",
    "    classify_result = predict(test, prior, conditional)\n",
    "    classify_result_list.append(classify_result)\n",
    "\n",
    "for i in range(0, len(classify_result_list)):\n",
    "    if classify_result_list[i] == test_list[i][6]:\n",
    "        pos_count += 1\n",
    "    else:\n",
    "        neg_count += 1\n",
    "print('测试集总数', len(test_list))\n",
    "print('正确分类数', pos_count)\n",
    "print('错误分类数', neg_count)\n",
    "print('分类的准确率为', pos_count / len(test_list))"
   ]
  },
  {
   "cell_type": "code",
   "execution_count": 6,
   "metadata": {},
   "outputs": [
    {
     "name": "stdout",
     "output_type": "stream",
     "text": [
      "对于结果为unacc  即数据集中classify 为0的   构建混淆矩阵 计算准确率 精度 召回率 F 度量\n准确率———— 0.7797029702970297\n精度(查准率) ———— 0.7555555555555555\n召回率(查全率)———— 0.7797029702970297\nf1值 ———— 0.8424778761061947\n"
     ]
    },
    {
     "data": {
      "image/png": "[encoded data removed]",
      "text/plain": [
       "<Figure size 324x144 with 1 Axes>"
      ]
     },
     "metadata": {},
     "output_type": "display_data"
    }
   ],
   "source": [
    "#对于结果为unacc  classify 为0  构建混淆矩阵 计算准确率 精度 召回率 F 度量\n",
    "print('对于结果为unacc  即数据集中classify 为0的   构建混淆矩阵 计算准确率 精度 召回率 F 度量')\n",
    "tp, fp, fn, tn = 0, 0, 0, 0\n",
    "#tp 为预测结果为0 且真实为0的数据   将一个正例正确判断为正例\n",
    "#fp 为预测结果为0 且真实为1，2，3的数据    将一个反例错误判断为正例\n",
    "#fn 为预测结果为1，2，3 且真实为0的数据     将一个正例错误判断为反例\n",
    "#tn 为预测结果为1，2，3 且真实为1，2，3的数据   将一个反例正确判断为反例\n",
    "for i in range(0,len(classify_result_list)):\n",
    "    if test_list[i][6] == 'unacc' and  classify_result_list[i] == 'unacc':\n",
    "        tp += 1\n",
    "    if test_list[i][6] == 'unacc' and  classify_result_list[i] != 'unacc':\n",
    "        fn += 1\n",
    "    if test_list[i][6] != 'unacc' and  classify_result_list[i] != 'unacc':\n",
    "        fp += 1\n",
    "    if test_list[i][6] != 'unacc' and  classify_result_list[i] != 'unacc':\n",
    "        tn += 1\n",
    "            \n",
    "            \n",
    "#混淆矩阵\n",
    "from matplotlib import pyplot as plt\n",
    "col_labels = ['positive','negative']\n",
    "\n",
    "row_labels = ['positive','negative']\n",
    "R, C = len(row_labels), len(col_labels)\n",
    "figC, figR = 2.25*C, R\n",
    "fig = plt.figure(figsize=(figC, figR))\n",
    "ax = fig.add_subplot(111, frameon=True, xticks=[], yticks=[])\n",
    "ax.spines['top'].set_visible(False)\n",
    "ax.spines['right'].set_visible(False)\n",
    "ax.spines['bottom'].set_visible(False)\n",
    "ax.spines['left'].set_visible(False)\n",
    "\n",
    "table_vals = [['TP-'+str(tp),'FN-'+str(fn)],['FP-'+str(fp),'TN-'+str(tn)]]\n",
    "my_table = plt.table(cellText=table_vals, rowLabels=row_labels, \n",
    "                     colLabels=col_labels, \n",
    "                     rowLoc='center', loc='center',cellLoc='center')\n",
    "my_table.set_fontsize(20)\n",
    "    \n",
    "    # 伸缩表格大小常数\n",
    "my_table.scale(figR/R*2 ,figC/C*1.5)\n",
    "#准确率   分类正确的样本数占样本总数的比例\n",
    "accuracy = (tp + tn) / (tp + tn + fp + fn)\n",
    "print('准确率————',accuracy)\n",
    "\n",
    "#精度   预测为正例的样本中真正为正例的比例：\n",
    "precision = (tp) / (tp+fp)\n",
    "print('精度(查准率) ————',precision)\n",
    "#召回率  真正为正例的样本中正确预测为正例的比例：\n",
    "recall = (tp) / (tp+fn)\n",
    "print('召回率(查全率)————',accuracy)\n",
    "#f值 \n",
    "f1 = (2*precision*recall) / (precision+recall)\n",
    "print('f1值 ————',f1)\n",
    "\n",
    "\n",
    "            \n",
    "            \n",
    "       \n"
   ]
  },
  {
   "cell_type": "code",
   "execution_count": 7,
   "metadata": {},
   "outputs": [
    {
     "name": "stdout",
     "output_type": "stream",
     "text": [
      "对于结果为acc  即数据集中classify 为1的   构建混淆矩阵 计算准确率 精度 召回率 F 度量\n准确率———— 0.5277280858676208\n精度(查准率) ———— 0.1694915254237288\n召回率(查全率)———— 0.5277280858676208\nf1值 ———— 0.2747252747252747\n"
     ]
    },
    {
     "data": {
      "image/png": "[encoded data removed]",
      "text/plain": [
       "<Figure size 324x144 with 1 Axes>"
      ]
     },
     "metadata": {},
     "output_type": "display_data"
    }
   ],
   "source": [
    "#对于结果为acc  classify 为1  构建混淆矩阵 计算准确率 精度 召回率 F 度量\n",
    "print('对于结果为acc  即数据集中classify 为1的   构建混淆矩阵 计算准确率 精度 召回率 F 度量')\n",
    "tp, fp, fn, tn = 0, 0, 0, 0\n",
    "#tp 为预测结果为1 且真实为1的数据   将一个正例正确判断为正例\n",
    "#fp 为预测结果为1 且真实为0，2，3的数据    将一个反例错误判断为正例\n",
    "#fn 为预测结果为0，2，3 且真实为1的数据     将一个正例错误判断为反例\n",
    "#tn 为预测结果为0，2，3 且真实为0，2，3的数据   将一个反例正确判断为反例\n",
    "for i in range(0,len(classify_result_list)):\n",
    "    if test_list[i][6] == 'acc' and  classify_result_list[i] == 'acc':\n",
    "        tp += 1\n",
    "    if test_list[i][6] == 'acc' and  classify_result_list[i] != 'acc':\n",
    "        fn += 1\n",
    "    if test_list[i][6] != 'acc' and  classify_result_list[i] != 'acc':\n",
    "        fp += 1\n",
    "    if test_list[i][6] != 'acc' and  classify_result_list[i] != 'acc':\n",
    "        tn += 1\n",
    "            \n",
    "            \n",
    "#混淆矩阵\n",
    "from matplotlib import pyplot as plt\n",
    "col_labels = ['positive','negative']\n",
    "\n",
    "row_labels = ['positive','negative']\n",
    "R, C = len(row_labels), len(col_labels)\n",
    "figC, figR = 2.25*C, R\n",
    "fig = plt.figure(figsize=(figC, figR))\n",
    "ax = fig.add_subplot(111, frameon=True, xticks=[], yticks=[])\n",
    "ax.spines['top'].set_visible(False)\n",
    "ax.spines['right'].set_visible(False)\n",
    "ax.spines['bottom'].set_visible(False)\n",
    "ax.spines['left'].set_visible(False)\n",
    "\n",
    "table_vals = [['TP-'+str(tp),'FN-'+str(fn)],['FP-'+str(fp),'TN-'+str(tn)]]\n",
    "my_table = plt.table(cellText=table_vals, rowLabels=row_labels, \n",
    "                     colLabels=col_labels, \n",
    "                     rowLoc='center', loc='center',cellLoc='center')\n",
    "my_table.set_fontsize(20)\n",
    "    \n",
    "    # 伸缩表格大小常数\n",
    "my_table.scale(figR/R*2 ,figC/C*1.5)\n",
    "#准确率   分类正确的样本数占样本总数的比例\n",
    "accuracy = (tp + tn) / (tp + tn + fp + fn)\n",
    "print('准确率————',accuracy)\n",
    "\n",
    "#精度   预测为正例的样本中真正为正例的比例：\n",
    "precision = (tp) / (tp+fp)\n",
    "print('精度(查准率) ————',precision)\n",
    "#召回率  真正为正例的样本中正确预测为正例的比例：\n",
    "recall = (tp) / (tp+fn)\n",
    "print('召回率(查全率)————',accuracy)\n",
    "#f值 \n",
    "f1 = (2*precision*recall) / (precision+recall)\n",
    "print('f1值 ————',f1)"
   ]
  },
  {
   "cell_type": "code",
   "execution_count": 8,
   "metadata": {},
   "outputs": [
    {
     "name": "stdout",
     "output_type": "stream",
     "text": [
      "对于结果为good  即数据集中classify 为2的   构建混淆矩阵 计算准确率 精度 召回率 F 度量\n准确率———— 0.49258160237388726\n精度(查准率) ———— 0.0030120481927710845\n召回率(查全率)———— 0.49258160237388726\nf1值 ———— 0.005813953488372093\n"
     ]
    },
    {
     "data": {
      "image/png": "[encoded data removed]",
      "text/plain": [
       "<Figure size 324x144 with 1 Axes>"
      ]
     },
     "metadata": {},
     "output_type": "display_data"
    }
   ],
   "source": [
    "#对于结果为good  classify 为2  构建混淆矩阵 计算准确率 精度 召回率 F 度量\n",
    "print('对于结果为good  即数据集中classify 为2的   构建混淆矩阵 计算准确率 精度 召回率 F 度量')\n",
    "tp, fp, fn, tn = 0, 0, 0, 0\n",
    "#tp 为预测结果为2 且真实为2的数据   将一个正例正确判断为正例\n",
    "#fp 为预测结果为2 且真实为0，1，3的数据    将一个反例错误判断为正例\n",
    "#fn 为预测结果为0，1，3 且真实为2的数据     将一个正例错误判断为反例\n",
    "#tn 为预测结果为0，1，3 且真实为0，1，3的数据   将一个反例正确判断为反例\n",
    "for i in range(0,len(classify_result_list)):\n",
    "    if test_list[i][6] == 'good' and  classify_result_list[i] == 'good':\n",
    "        tp += 1\n",
    "    if test_list[i][6] == 'good' and  classify_result_list[i] != 'good':\n",
    "        fn += 1\n",
    "    if test_list[i][6] != 'good' and  classify_result_list[i] != 'good':\n",
    "        fp += 1\n",
    "    if test_list[i][6] != 'good' and  classify_result_list[i] != 'good':\n",
    "        tn += 1\n",
    "            \n",
    "            \n",
    "#混淆矩阵\n",
    "from matplotlib import pyplot as plt\n",
    "col_labels = ['positive','negative']\n",
    "\n",
    "row_labels = ['positive','negative']\n",
    "R, C = len(row_labels), len(col_labels)\n",
    "figC, figR = 2.25*C, R\n",
    "fig = plt.figure(figsize=(figC, figR))\n",
    "ax = fig.add_subplot(111, frameon=True, xticks=[], yticks=[])\n",
    "ax.spines['top'].set_visible(False)\n",
    "ax.spines['right'].set_visible(False)\n",
    "ax.spines['bottom'].set_visible(False)\n",
    "ax.spines['left'].set_visible(False)\n",
    "\n",
    "table_vals = [['TP-'+str(tp),'FN-'+str(fn)],['FP-'+str(fp),'TN-'+str(tn)]]\n",
    "my_table = plt.table(cellText=table_vals, rowLabels=row_labels, \n",
    "                     colLabels=col_labels, \n",
    "                     rowLoc='center', loc='center',cellLoc='center')\n",
    "my_table.set_fontsize(20)\n",
    "    \n",
    "    # 伸缩表格大小常数\n",
    "my_table.scale(figR/R*2 ,figC/C*1.5)\n",
    "#准确率   分类正确的样本数占样本总数的比例\n",
    "accuracy = (tp + tn) / (tp + tn + fp + fn)\n",
    "print('准确率————',accuracy)\n",
    "\n",
    "#精度   预测为正例的样本中真正为正例的比例：\n",
    "precision = (tp) / (tp+fp)\n",
    "print('精度(查准率) ————',precision)\n",
    "#召回率  真正为正例的样本中正确预测为正例的比例：\n",
    "recall = (tp) / (tp+fn)\n",
    "print('召回率(查全率)————',accuracy)\n",
    "#f值 \n",
    "if 2*precision*recall == 0:\n",
    "    print('f1值 ————',0.0)\n",
    "else:\n",
    "    f1 = (2*precision*recall) / (precision+recall)\n",
    "    print('f1值 ————',f1)"
   ]
  },
  {
   "cell_type": "code",
   "execution_count": 9,
   "metadata": {},
   "outputs": [
    {
     "name": "stdout",
     "output_type": "stream",
     "text": [
      "对于结果为vgood  即数据集中classify 为3的   构建混淆矩阵 计算准确率 精度 召回率 F 度量\n准确率———— 0.4970414201183432\n精度(查准率) ———— 0.01488095238095238\n召回率(查全率)———— 0.4970414201183432\nf1值 ———— 0.02857142857142857\n"
     ]
    },
    {
     "data": {
      "image/png": "[encoded data removed]",
      "text/plain": [
       "<Figure size 324x144 with 1 Axes>"
      ]
     },
     "metadata": {},
     "output_type": "display_data"
    }
   ],
   "source": [
    "#对于结果为vgood  classify 为3  构建混淆矩阵 计算准确率 精度 召回率 F 度量\n",
    "print('对于结果为vgood  即数据集中classify 为3的   构建混淆矩阵 计算准确率 精度 召回率 F 度量')\n",
    "tp, fp, fn, tn = 0, 0, 0, 0\n",
    "#tp 为预测结果为2 且真实为2的数据   将一个正例正确判断为正例\n",
    "#fp 为预测结果为2 且真实为0，1，3的数据    将一个反例错误判断为正例\n",
    "#fn 为预测结果为0，1，3 且真实为2的数据     将一个正例错误判断为反例\n",
    "#tn 为预测结果为0，1，3 且真实为0，1，3的数据   将一个反例正确判断为反例\n",
    "for i in range(0,len(classify_result_list)):\n",
    "    if test_list[i][6] == 'vgood' and  classify_result_list[i] == 'vgood':\n",
    "        tp += 1\n",
    "    if test_list[i][6] == 'vgood' and  classify_result_list[i] != 'vgood':\n",
    "        fn += 1\n",
    "    if test_list[i][6] != 'vgood' and  classify_result_list[i] != 'vgood':\n",
    "        fp += 1\n",
    "    if test_list[i][6] != 'vgood' and  classify_result_list[i] != 'vgood':\n",
    "        tn += 1\n",
    "            \n",
    "            \n",
    "#混淆矩阵\n",
    "from matplotlib import pyplot as plt\n",
    "col_labels = ['positive','negative']\n",
    "\n",
    "row_labels = ['positive','negative']\n",
    "R, C = len(row_labels), len(col_labels)\n",
    "figC, figR = 2.25*C, R\n",
    "fig = plt.figure(figsize=(figC, figR))\n",
    "ax = fig.add_subplot(111, frameon=True, xticks=[], yticks=[])\n",
    "ax.spines['top'].set_visible(False)\n",
    "ax.spines['right'].set_visible(False)\n",
    "ax.spines['bottom'].set_visible(False)\n",
    "ax.spines['left'].set_visible(False)\n",
    "\n",
    "table_vals = [['TP-'+str(tp),'FN-'+str(fn)],['FP-'+str(fp),'TN-'+str(tn)]]\n",
    "my_table = plt.table(cellText=table_vals, rowLabels=row_labels, \n",
    "                     colLabels=col_labels, \n",
    "                     rowLoc='center', loc='center',cellLoc='center')\n",
    "my_table.set_fontsize(20)\n",
    "    \n",
    "    # 伸缩表格大小常数\n",
    "my_table.scale(figR/R*2 ,figC/C*1.5)\n",
    "#准确率   分类正确的样本数占样本总数的比例\n",
    "accuracy = (tp + tn) / (tp + tn + fp + fn)\n",
    "print('准确率————',accuracy)\n",
    "\n",
    "#精度   预测为正例的样本中真正为正例的比例：\n",
    "precision = (tp) / (tp+fp)\n",
    "print('精度(查准率) ————',precision)\n",
    "#召回率  真正为正例的样本中正确预测为正例的比例：\n",
    "recall = (tp) / (tp+fn)\n",
    "print('召回率(查全率)————',accuracy)\n",
    "#f值\n",
    "if 2*precision*recall == 0:\n",
    "    print('f1值 ————',0.0)\n",
    "else:\n",
    "    f1 = (2*precision*recall) / (precision+recall)\n",
    "    print('f1值 ————',f1)"
   ]
  },
  {
   "cell_type": "code",
   "execution_count": 14,
   "metadata": {
    "collapsed": true
   },
   "outputs": [
    {
     "name": "stdout",
     "output_type": "stream",
     "text": [
      "数据标签为 ['buying', 'maint', 'doors', 'persons', 'lug_boot', 'safety']\n测试数据为 ['low', 'low', '5more', '2', 'small', 'low', 'unacc']\n类别 acc 的先验概率为 0.227994227994228\n当特征 buying 取值为 low 时，条件概率为 0.22570532915360503\n当特征 maint 取值为 low 时，条件概率为 0.23510971786833856\n当特征 doors 取值为 5more 时，条件概率为 0.2852664576802508\n当特征 persons 取值为 2 时，条件概率为 0.0031446540880503146\n当特征 lug_boot 取值为 small 时，条件概率为 0.2672955974842767\n当特征 safety 取值为 low 时，条件概率为 0.0031446540880503146\n类别 acc 的后验概率为为 -18.51249742729847\n\n类别 unacc 的先验概率为 0.6926406926406926\n当特征 buying 取值为 low 时，条件概率为 0.2087227414330218\n当特征 maint 取值为 low 时，条件概率为 0.22533748701973\n当特征 doors 取值为 5more 时，条件概率为 0.2336448598130841\n当特征 persons 取值为 2 时，条件概率为 0.4625779625779626\n当特征 lug_boot 取值为 small 时，条件概率为 0.37733887733887733\n当特征 safety 取值为 low 时，条件概率为 0.48336798336798337\n类别 unacc 的后验概率为为 -7.3506302968570605\n\n类别 good 的先验概率为 0.04184704184704185\n当特征 buying 取值为 low 时，条件概率为 0.639344262295082\n当特征 maint 取值为 low 时，条件概率为 0.6557377049180327\n当特征 doors 取值为 5more 时，条件概率为 0.29508196721311475\n当特征 persons 取值为 2 时，条件概率为 0.016666666666666666\n当特征 lug_boot 取值为 small 时，条件概率为 0.26666666666666666\n当特征 safety 取值为 low 时，条件概率为 0.016666666666666666\n类别 good 的后验概率为为 -14.773987868010135\n\n类别 vgood 的先验概率为 0.03751803751803752\n当特征 buying 取值为 low 时，条件概率为 0.5636363636363636\n当特征 maint 取值为 low 时，条件概率为 0.41818181818181815\n当特征 doors 取值为 5more 时，条件概率为 0.3090909090909091\n当特征 persons 取值为 2 时，条件概率为 0.018518518518518517\n当特征 lug_boot 取值为 small 时，条件概率为 0.018518518518518517\n当特征 safety 取值为 low 时，条件概率为 0.018518518518518517\n类别 vgood 的后验概率为为 -17.869190392088147\n\n比较之后，分类为 => unacc\n\n\n数据标签为 ['buying', 'maint', 'doors', 'persons', 'lug_boot', 'safety']\n测试数据为 ['vhigh', 'high', '3', '2', 'med', 'med', 'unacc']\n类别 acc 的先验概率为 0.227994227994228\n当特征 buying 取值为 vhigh 时，条件概率为 0.19435736677115986\n当特征 maint 取值为 high 时，条件概率为 0.27586206896551724\n当特征 doors 取值为 3 时，条件概率为 0.25391849529780564\n当特征 persons 取值为 2 时，条件概率为 0.0031446540880503146\n当特征 lug_boot 取值为 med 时，条件概率为 0.34591194968553457\n当特征 safety 取值为 med 时，条件概率为 0.48742138364779874\n类别 acc 的后验概率为为 -13.317336585950601\n\n类别 unacc 的先验概率为 0.6926406926406926\n当特征 buying 取值为 vhigh 时，条件概率为 0.30218068535825543\n当特征 maint 取值为 high 时，条件概率为 0.2523364485981308\n当特征 doors 取值为 3 时，条件概率为 0.24714434060228452\n当特征 persons 取值为 2 时，条件概率为 0.4625779625779626\n当特征 lug_boot 取值为 med 时，条件概率为 0.3212058212058212\n当特征 safety 取值为 med 时，条件概率为 0.288981288981289\n类别 unacc 的后验概率为为 -7.4867554257413245\n\n类别 good 的先验概率为 0.04184704184704185\n当特征 buying 取值为 vhigh 时，条件概率为 0.01639344262295082\n当特征 maint 取值为 high 时，条件概率为 0.01639344262295082\n当特征 doors 取值为 3 时，条件概率为 0.21311475409836064\n当特征 persons 取值为 2 时，条件概率为 0.016666666666666666\n当特征 lug_boot 取值为 med 时，条件概率为 0.35\n当特征 safety 取值为 med 时，条件概率为 0.6\n类别 good 的后验概率为为 -18.5963987147486\n\n类别 vgood 的先验概率为 0.03751803751803752\n当特征 buying 取值为 vhigh 时，条件概率为 0.01818181818181818\n当特征 maint 取值为 high 时，条件概率为 0.18181818181818182\n当特征 doors 取值为 3 时，条件概率为 0.23636363636363636\n当特征 persons 取值为 2 时，条件概率为 0.018518518518518517\n当特征 lug_boot 取值为 med 时，条件概率为 0.4074074074074074\n当特征 safety 取值为 med 时，条件概率为 0.018518518518518517\n类别 vgood 的后验概率为为 -19.31330825274476\n\n比较之后，分类为 => unacc\n\n\n"
     ]
    }
   ],
   "source": [
    "temp_test_list = test_list[0:2]\n",
    "def predict(test, prior, conditional):\n",
    "    \"\"\"预测单个样本\"\"\"\n",
    "    best_poster, best_label = -np.inf, -1\n",
    "    for label in prior:\n",
    "        print('类别',label,'的先验概率为',prior[label])\n",
    "        # 初始化后验概率为先验概率,同时把连乘换成取对数相加，防止下溢（即太多小于1的数相乘，结果会变成0）\n",
    "        poster = np.log(prior[label])\n",
    "        for i in range(0, len(test)-1):\n",
    "            # 第i个特征（第i列） 取值为test[i]  类别为label 的条件概率   由于取了对数 所以加变成了乘\n",
    "            print('当特征',label_set[i],'取值为',test[i],'时，条件概率为',conditional[i][test[i]][label])\n",
    "            poster += np.log(conditional[i][test[i]][label])\n",
    "        print('类别',label,'的后验概率为为',poster)\n",
    "        print()\n",
    "        if poster > best_poster:  # 获取后验概率最大的类别\n",
    "            best_poster = poster\n",
    "            best_label = label\n",
    "    return best_label\n",
    "\n",
    "\n",
    "\n",
    "for test in temp_test_list:\n",
    "    print('数据标签为',label_set)\n",
    "    print('测试数据为',test )\n",
    "    classify_result = predict(test, prior, conditional)\n",
    "    print('比较之后，分类为','=>',classify_result)\n",
    "    print()\n",
    "    print()\n"
   ]
  },
  {
   "cell_type": "code",
   "execution_count": null,
   "metadata": {},
   "outputs": [],
   "source": []
  }
 ],
 "metadata": {
  "kernelspec": {
   "display_name": "Python 2",
   "language": "python",
   "name": "python2"
  },
  "language_info": {
   "codemirror_mode": {
    "name": "ipython",
    "version": 2
   },
   "file_extension": ".py",
   "mimetype": "text/x-python",
   "name": "python",
   "nbconvert_exporter": "python",
   "pygments_lexer": "ipython2",
   "version": "2.7.6"
  }
 },
 "nbformat": 4,
 "nbformat_minor": 0
}

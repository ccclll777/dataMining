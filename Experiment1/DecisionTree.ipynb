{
 "cells": [
  {
   "cell_type": "code",
   "execution_count": 27,
   "metadata": {
    "collapsed": true
   },
   "outputs": [
    {
     "name": "stdout",
     "output_type": "stream",
     "text": [
      "['buying', 'maint', 'doors', 'persons', 'lug_boot', 'safety']\n训练集大小 1382\n测试集大小 345\n"
     ]
    }
   ],
   "source": [
    "\n",
    "def getData(filename):\n",
    "    f = open(filename,'r')\n",
    "    datas = f.readlines()\n",
    "    label = datas[0].split(',')\n",
    "    del (label[6])\n",
    "    # label[len(label)-1] = label[len(label)-1].replace('\\n','')\n",
    "    data_set = []\n",
    "    for i in range(1,len(datas)):\n",
    "        temp = datas[i].split(',')\n",
    "        temp[len(temp) - 1] = temp[len(temp) - 1].replace('\\n', '')\n",
    "        data_set.append(temp)\n",
    "    return label,data_set\n",
    "\n",
    "label_set,data_set = getData('Experiment1/data/car_data.csv')\n",
    "\n",
    "print(label_set)\n",
    "#加载训练数据 80% 测试数据 20%\n",
    "train_list = data_set[0:1382]  # 训练集 数据\n",
    "test_list = data_set[1383:]  # 测试集 数据\n",
    "print('训练集大小',len(train_list))\n",
    "print('测试集大小',len(test_list))"
   ]
  },
  {
   "cell_type": "code",
   "execution_count": 29,
   "metadata": {},
   "outputs": [
    {
     "name": "stdout",
     "output_type": "stream",
     "text": [
      "测试集总数 345\n正确分类数 329\n错误分类数 16\n分类的准确率为 0.9536231884057971\n"
     ]
    }
   ],
   "source": [
    "#打开文件取出决策树\n",
    "def loadTree(filename):\n",
    "    import pickle\n",
    "    fr = open(filename, 'rb')\n",
    "    return pickle.load(fr)\n",
    "def classify(tree2, label, testVec):  # label为特征的标签值；testVec为测试数据，即所有特征的具体值构成的向量\n",
    "    firstFeat = ''  # 取出tree的第一个键\n",
    "    for i in tree2.keys():\n",
    "        firstFeat = i\n",
    "        break\n",
    "    \n",
    "    secondDict = tree2[firstFeat]  # 取出tree第一个键的值，即tree的第二个字典（包含关系）\n",
    "    labelIndex = label.index(firstFeat)  # 得到第一个特征firstFeat在标签label中的索引\n",
    "    classLabel = ''\n",
    "    for key in secondDict.keys():  # 遍历第二个字典的键\n",
    "        if testVec[labelIndex] == key:  # 如果第一个特征的测试值与第二个字典的键相等时\n",
    "            if type(secondDict[key]).__name__ == 'dict':  # 如果第二个字典的值还是一个字典，说明分类还没结束，递归执行classify函数\n",
    "                classLabel = classify(secondDict[key], label, testVec)  # 递归函数中只有输入的第一个参数不同，不断向字典内层渗入\n",
    "            else:\n",
    "                classLabel = secondDict[key]  # 最后将得到的分类值赋给classLabel输出\n",
    "    return classLabel\n",
    "\n",
    "tree = loadTree('Experiment1/data/dataTree_4.txt')\n",
    "pos_count = 0#正确分类数量\n",
    "neg_count = 0 #错误分类数量\n",
    "classify_result_list = [] #存储分类结果\n",
    "for test in test_list:\n",
    "    classify_result = classify(tree,label_set,test)\n",
    "    classify_result_list.append(classify_result)\n",
    "    \n",
    "for i in range(0,len(classify_result_list)):\n",
    "    if classify_result_list[i] == test_list[i][6]:\n",
    "        pos_count +=1\n",
    "    else:\n",
    "        neg_count +=1\n",
    "print('测试集总数',len(test_list))\n",
    "print('正确分类数',pos_count)\n",
    "print('错误分类数',neg_count)\n",
    "print('分类的准确率为',pos_count/len(test_list))"
   ]
  },
  {
   "cell_type": "code",
   "execution_count": 30,
   "metadata": {},
   "outputs": [
    {
     "name": "stdout",
     "output_type": "stream",
     "text": [
      "对于结果为unacc  即数据集中classify 为0的   构建混淆矩阵 计算准确率 精度 召回率 F 度量\n准确率———— 0.7439293598233996\n精度(查准率) ———— 0.6795252225519288\n召回率(查全率)———— 0.7439293598233996\nf1值 ———— 0.7979094076655052\n"
     ]
    },
    {
     "data": {
      "image/png": "[encoded data removed]",
      "text/plain": [
       "<Figure size 324x144 with 1 Axes>"
      ]
     },
     "metadata": {},
     "output_type": "display_data"
    }
   ],
   "source": [
    "#对于结果为unacc  classify 为0  构建混淆矩阵 计算准确率 精度 召回率 F 度量\n",
    "print('对于结果为unacc  即数据集中classify 为0的   构建混淆矩阵 计算准确率 精度 召回率 F 度量')\n",
    "tp, fp, fn, tn = 0, 0, 0, 0\n",
    "#tp 为预测结果为0 且真实为0的数据   将一个正例正确判断为正例\n",
    "#fp 为预测结果为0 且真实为1，2，3的数据    将一个反例错误判断为正例\n",
    "#fn 为预测结果为1，2，3 且真实为0的数据     将一个正例错误判断为反例\n",
    "#tn 为预测结果为1，2，3 且真实为1，2，3的数据   将一个反例正确判断为反例\n",
    "for i in range(0,len(classify_result_list)):\n",
    "    if test_list[i][6] == 'unacc' and  classify_result_list[i] == 'unacc':\n",
    "        tp += 1\n",
    "    if test_list[i][6] == 'unacc' and  classify_result_list[i] != 'unacc':\n",
    "        fn += 1\n",
    "    if test_list[i][6] != 'unacc' and  classify_result_list[i] != 'unacc':\n",
    "        fp += 1\n",
    "    if test_list[i][6] != 'unacc' and  classify_result_list[i] != 'unacc':\n",
    "        tn += 1\n",
    "            \n",
    "            \n",
    "#混淆矩阵\n",
    "from matplotlib import pyplot as plt\n",
    "col_labels = ['positive','negative']\n",
    "\n",
    "row_labels = ['positive','negative']\n",
    "R, C = len(row_labels), len(col_labels)\n",
    "figC, figR = 2.25*C, R\n",
    "fig = plt.figure(figsize=(figC, figR))\n",
    "ax = fig.add_subplot(111, frameon=True, xticks=[], yticks=[])\n",
    "ax.spines['top'].set_visible(False)\n",
    "ax.spines['right'].set_visible(False)\n",
    "ax.spines['bottom'].set_visible(False)\n",
    "ax.spines['left'].set_visible(False)\n",
    "\n",
    "table_vals = [['TP-'+str(tp),'FN-'+str(fn)],['FP-'+str(fp),'TN-'+str(tn)]]\n",
    "my_table = plt.table(cellText=table_vals, rowLabels=row_labels, \n",
    "                     colLabels=col_labels, \n",
    "                     rowLoc='center', loc='center',cellLoc='center')\n",
    "my_table.set_fontsize(20)\n",
    "    \n",
    "    # 伸缩表格大小常数\n",
    "my_table.scale(figR/R*2 ,figC/C*1.5)\n",
    "#准确率   分类正确的样本数占样本总数的比例\n",
    "accuracy = (tp + tn) / (tp + tn + fp + fn)\n",
    "print('准确率————',accuracy)\n",
    "\n",
    "#精度   预测为正例的样本中真正为正例的比例：\n",
    "precision = (tp) / (tp+fp)\n",
    "print('精度(查准率) ————',precision)\n",
    "#召回率  真正为正例的样本中正确预测为正例的比例：\n",
    "recall = (tp) / (tp+fn)\n",
    "print('召回率(查全率)————',accuracy)\n",
    "#f值 \n",
    "f1 = (2*precision*recall) / (precision+recall)\n",
    "print('f1值 ————',f1)\n",
    "\n",
    "\n",
    "            \n",
    "            \n",
    "       \n"
   ]
  },
  {
   "cell_type": "code",
   "execution_count": 31,
   "metadata": {},
   "outputs": [
    {
     "name": "stdout",
     "output_type": "stream",
     "text": [
      "对于结果为acc  即数据集中classify 为1的   构建混淆矩阵 计算准确率 精度 召回率 F 度量\n准确率———— 0.7439293598233996\n精度(查准率) ———— 0.6795252225519288\n召回率(查全率)———— 0.7439293598233996\nf1值 ———— 0.7979094076655052\n"
     ]
    },
    {
     "data": {
      "image/png": "[encoded data removed]",
      "text/plain": [
       "<Figure size 324x144 with 1 Axes>"
      ]
     },
     "metadata": {},
     "output_type": "display_data"
    }
   ],
   "source": [
    "#对于结果为acc  classify 为1  构建混淆矩阵 计算准确率 精度 召回率 F 度量\n",
    "print('对于结果为acc  即数据集中classify 为1的   构建混淆矩阵 计算准确率 精度 召回率 F 度量')\n",
    "tp, fp, fn, tn = 0, 0, 0, 0\n",
    "#tp 为预测结果为1 且真实为1的数据   将一个正例正确判断为正例\n",
    "#fp 为预测结果为1 且真实为0，2，3的数据    将一个反例错误判断为正例\n",
    "#fn 为预测结果为0，2，3 且真实为1的数据     将一个正例错误判断为反例\n",
    "#tn 为预测结果为0，2，3 且真实为0，2，3的数据   将一个反例正确判断为反例\n",
    "for i in range(0,len(classify_result_list)):\n",
    "    if test_list[i][6] == 'unacc' and  classify_result_list[i] == 'unacc':\n",
    "        tp += 1\n",
    "    if test_list[i][6] == 'unacc' and  classify_result_list[i] != 'unacc':\n",
    "        fn += 1\n",
    "    if test_list[i][6] != 'unacc' and  classify_result_list[i] != 'unacc':\n",
    "        fp += 1\n",
    "    if test_list[i][6] != 'unacc' and  classify_result_list[i] != 'unacc':\n",
    "        tn += 1\n",
    "            \n",
    "            \n",
    "#混淆矩阵\n",
    "from matplotlib import pyplot as plt\n",
    "col_labels = ['positive','negative']\n",
    "\n",
    "row_labels = ['positive','negative']\n",
    "R, C = len(row_labels), len(col_labels)\n",
    "figC, figR = 2.25*C, R\n",
    "fig = plt.figure(figsize=(figC, figR))\n",
    "ax = fig.add_subplot(111, frameon=True, xticks=[], yticks=[])\n",
    "ax.spines['top'].set_visible(False)\n",
    "ax.spines['right'].set_visible(False)\n",
    "ax.spines['bottom'].set_visible(False)\n",
    "ax.spines['left'].set_visible(False)\n",
    "\n",
    "table_vals = [['TP-'+str(tp),'FN-'+str(fn)],['FP-'+str(fp),'TN-'+str(tn)]]\n",
    "my_table = plt.table(cellText=table_vals, rowLabels=row_labels, \n",
    "                     colLabels=col_labels, \n",
    "                     rowLoc='center', loc='center',cellLoc='center')\n",
    "my_table.set_fontsize(20)\n",
    "    \n",
    "    # 伸缩表格大小常数\n",
    "my_table.scale(figR/R*2 ,figC/C*1.5)\n",
    "#准确率   分类正确的样本数占样本总数的比例\n",
    "accuracy = (tp + tn) / (tp + tn + fp + fn)\n",
    "print('准确率————',accuracy)\n",
    "\n",
    "#精度   预测为正例的样本中真正为正例的比例：\n",
    "precision = (tp) / (tp+fp)\n",
    "print('精度(查准率) ————',precision)\n",
    "#召回率  真正为正例的样本中正确预测为正例的比例：\n",
    "recall = (tp) / (tp+fn)\n",
    "print('召回率(查全率)————',accuracy)\n",
    "#f值 \n",
    "f1 = (2*precision*recall) / (precision+recall)\n",
    "print('f1值 ————',f1)"
   ]
  },
  {
   "cell_type": "code",
   "execution_count": 32,
   "metadata": {},
   "outputs": [
    {
     "name": "stdout",
     "output_type": "stream",
     "text": [
      "对于结果为good  即数据集中classify 为2的   构建混淆矩阵 计算准确率 精度 召回率 F 度量\n准确率———— 0.5052005943536404\n精度(查准率) ———— 0.029411764705882353\n召回率(查全率)———— 0.5052005943536404\nf1值 ———— 0.05665722379603399\n"
     ]
    },
    {
     "data": {
      "image/png": "[encoded data removed]",
      "text/plain": [
       "<Figure size 324x144 with 1 Axes>"
      ]
     },
     "metadata": {},
     "output_type": "display_data"
    }
   ],
   "source": [
    "#对于结果为good  classify 为2  构建混淆矩阵 计算准确率 精度 召回率 F 度量\n",
    "print('对于结果为good  即数据集中classify 为2的   构建混淆矩阵 计算准确率 精度 召回率 F 度量')\n",
    "tp, fp, fn, tn = 0, 0, 0, 0\n",
    "#tp 为预测结果为2 且真实为2的数据   将一个正例正确判断为正例\n",
    "#fp 为预测结果为2 且真实为0，1，3的数据    将一个反例错误判断为正例\n",
    "#fn 为预测结果为0，1，3 且真实为2的数据     将一个正例错误判断为反例\n",
    "#tn 为预测结果为0，1，3 且真实为0，1，3的数据   将一个反例正确判断为反例\n",
    "for i in range(0,len(classify_result_list)):\n",
    "    if test_list[i][6] == 'good' and  classify_result_list[i] == 'good':\n",
    "        tp += 1\n",
    "    if test_list[i][6] == 'good' and  classify_result_list[i] != 'good':\n",
    "        fn += 1\n",
    "    if test_list[i][6] != 'good' and  classify_result_list[i] != 'good':\n",
    "        fp += 1\n",
    "    if test_list[i][6] != 'good' and  classify_result_list[i] != 'good':\n",
    "        tn += 1\n",
    "            \n",
    "            \n",
    "#混淆矩阵\n",
    "from matplotlib import pyplot as plt\n",
    "col_labels = ['positive','negative']\n",
    "\n",
    "row_labels = ['positive','negative']\n",
    "R, C = len(row_labels), len(col_labels)\n",
    "figC, figR = 2.25*C, R\n",
    "fig = plt.figure(figsize=(figC, figR))\n",
    "ax = fig.add_subplot(111, frameon=True, xticks=[], yticks=[])\n",
    "ax.spines['top'].set_visible(False)\n",
    "ax.spines['right'].set_visible(False)\n",
    "ax.spines['bottom'].set_visible(False)\n",
    "ax.spines['left'].set_visible(False)\n",
    "\n",
    "table_vals = [['TP-'+str(tp),'FN-'+str(fn)],['FP-'+str(fp),'TN-'+str(tn)]]\n",
    "my_table = plt.table(cellText=table_vals, rowLabels=row_labels, \n",
    "                     colLabels=col_labels, \n",
    "                     rowLoc='center', loc='center',cellLoc='center')\n",
    "my_table.set_fontsize(20)\n",
    "    \n",
    "    # 伸缩表格大小常数\n",
    "my_table.scale(figR/R*2 ,figC/C*1.5)\n",
    "#准确率   分类正确的样本数占样本总数的比例\n",
    "accuracy = (tp + tn) / (tp + tn + fp + fn)\n",
    "print('准确率————',accuracy)\n",
    "\n",
    "#精度   预测为正例的样本中真正为正例的比例：\n",
    "precision = (tp) / (tp+fp)\n",
    "print('精度(查准率) ————',precision)\n",
    "#召回率  真正为正例的样本中正确预测为正例的比例：\n",
    "recall = (tp) / (tp+fn)\n",
    "print('召回率(查全率)————',accuracy)\n",
    "#f值 \n",
    "if 2*precision*recall == 0:\n",
    "    print('f1值 ————',0.0)\n",
    "else:\n",
    "    f1 = (2*precision*recall) / (precision+recall)\n",
    "    print('f1值 ————',f1)"
   ]
  },
  {
   "cell_type": "code",
   "execution_count": 33,
   "metadata": {},
   "outputs": [
    {
     "name": "stdout",
     "output_type": "stream",
     "text": [
      "对于结果为vgood  即数据集中classify 为3的   构建混淆矩阵 计算准确率 精度 召回率 F 度量\n准确率———— 0.508955223880597\n精度(查准率) ———— 0.04105571847507331\n召回率(查全率)———— 0.508955223880597\nf1值 ———— 0.0784313725490196\n"
     ]
    },
    {
     "data": {
      "image/png": "[encoded data removed]",
      "text/plain": [
       "<Figure size 324x144 with 1 Axes>"
      ]
     },
     "metadata": {},
     "output_type": "display_data"
    }
   ],
   "source": [
    "#对于结果为vgood  classify 为3  构建混淆矩阵 计算准确率 精度 召回率 F 度量\n",
    "print('对于结果为vgood  即数据集中classify 为3的   构建混淆矩阵 计算准确率 精度 召回率 F 度量')\n",
    "tp, fp, fn, tn = 0, 0, 0, 0\n",
    "#tp 为预测结果为2 且真实为2的数据   将一个正例正确判断为正例\n",
    "#fp 为预测结果为2 且真实为0，1，3的数据    将一个反例错误判断为正例\n",
    "#fn 为预测结果为0，1，3 且真实为2的数据     将一个正例错误判断为反例\n",
    "#tn 为预测结果为0，1，3 且真实为0，1，3的数据   将一个反例正确判断为反例\n",
    "for i in range(0,len(classify_result_list)):\n",
    "    if test_list[i][6] == 'vgood' and  classify_result_list[i] == 'vgood':\n",
    "        tp += 1\n",
    "    if test_list[i][6] == 'vgood' and  classify_result_list[i] != 'vgood':\n",
    "        fn += 1\n",
    "    if test_list[i][6] != 'vgood' and  classify_result_list[i] != 'vgood':\n",
    "        fp += 1\n",
    "    if test_list[i][6] != 'vgood' and  classify_result_list[i] != 'vgood':\n",
    "        tn += 1\n",
    "            \n",
    "            \n",
    "#混淆矩阵\n",
    "from matplotlib import pyplot as plt\n",
    "col_labels = ['positive','negative']\n",
    "\n",
    "row_labels = ['positive','negative']\n",
    "R, C = len(row_labels), len(col_labels)\n",
    "figC, figR = 2.25*C, R\n",
    "fig = plt.figure(figsize=(figC, figR))\n",
    "ax = fig.add_subplot(111, frameon=True, xticks=[], yticks=[])\n",
    "ax.spines['top'].set_visible(False)\n",
    "ax.spines['right'].set_visible(False)\n",
    "ax.spines['bottom'].set_visible(False)\n",
    "ax.spines['left'].set_visible(False)\n",
    "\n",
    "table_vals = [['TP-'+str(tp),'FN-'+str(fn)],['FP-'+str(fp),'TN-'+str(tn)]]\n",
    "my_table = plt.table(cellText=table_vals, rowLabels=row_labels, \n",
    "                     colLabels=col_labels, \n",
    "                     rowLoc='center', loc='center',cellLoc='center')\n",
    "my_table.set_fontsize(20)\n",
    "    \n",
    "    # 伸缩表格大小常数\n",
    "my_table.scale(figR/R*2 ,figC/C*1.5)\n",
    "#准确率   分类正确的样本数占样本总数的比例\n",
    "accuracy = (tp + tn) / (tp + tn + fp + fn)\n",
    "print('准确率————',accuracy)\n",
    "\n",
    "#精度   预测为正例的样本中真正为正例的比例：\n",
    "precision = (tp) / (tp+fp)\n",
    "print('精度(查准率) ————',precision)\n",
    "#召回率  真正为正例的样本中正确预测为正例的比例：\n",
    "recall = (tp) / (tp+fn)\n",
    "print('召回率(查全率)————',accuracy)\n",
    "#f值\n",
    "if 2*precision*recall == 0:\n",
    "    print('f1值 ————',0.0)\n",
    "else:\n",
    "    f1 = (2*precision*recall) / (precision+recall)\n",
    "    print('f1值 ————',f1)"
   ]
  },
  {
   "cell_type": "code",
   "execution_count": 34,
   "metadata": {},
   "outputs": [
    {
     "name": "stdout",
     "output_type": "stream",
     "text": [
      "数据标签为 ['buying', 'maint', 'doors', 'persons', 'lug_boot', 'safety']\n测试数据为 ['high', 'high', '2', '4', 'med', 'med', 'unacc']\nsafety => med\npersons => 4\nbuying => high\nlug_boot => med\ndoors => 2\n分类为 => unacc\n\n\n数据标签为 ['buying', 'maint', 'doors', 'persons', 'lug_boot', 'safety']\n测试数据为 ['high', 'vhigh', '2', '2', 'small', 'low', 'unacc']\nsafety => low\n分类为 => unacc\n\n\n数据标签为 ['buying', 'maint', 'doors', 'persons', 'lug_boot', 'safety']\n测试数据为 ['vhigh', 'low', '5more', '4', 'big', 'med', 'acc']\nsafety => med\npersons => 4\nbuying => vhigh\nmaint => low\nlug_boot => big\n分类为 => acc\n\n\n数据标签为 ['buying', 'maint', 'doors', 'persons', 'lug_boot', 'safety']\n测试数据为 ['high', 'vhigh', '3', '4', 'big', 'low', 'unacc']\nsafety => low\n分类为 => unacc\n\n\n数据标签为 ['buying', 'maint', 'doors', 'persons', 'lug_boot', 'safety']\n测试数据为 ['med', 'vhigh', '4', '2', 'med', 'med', 'unacc']\nsafety => med\npersons => 2\n分类为 => unacc\n\n\n数据标签为 ['buying', 'maint', 'doors', 'persons', 'lug_boot', 'safety']\n测试数据为 ['vhigh', 'vhigh', '4', '4', 'small', 'med', 'unacc']\nsafety => med\npersons => 4\nbuying => vhigh\nmaint => vhigh\n分类为 => unacc\n\n\n数据标签为 ['buying', 'maint', 'doors', 'persons', 'lug_boot', 'safety']\n测试数据为 ['low', 'low', '4', '2', 'med', 'high', 'unacc']\nsafety => high\npersons => 2\n分类为 => unacc\n\n\n数据标签为 ['buying', 'maint', 'doors', 'persons', 'lug_boot', 'safety']\n测试数据为 ['high', 'vhigh', '5more', 'more', 'small', 'low', 'unacc']\nsafety => low\n分类为 => unacc\n\n\n数据标签为 ['buying', 'maint', 'doors', 'persons', 'lug_boot', 'safety']\n测试数据为 ['med', 'low', '2', 'more', 'med', 'high', 'good']\nsafety => high\npersons => more\nbuying => med\nmaint => low\nlug_boot => med\n分类为 => vgood\n\n\n数据标签为 ['buying', 'maint', 'doors', 'persons', 'lug_boot', 'safety']\n测试数据为 ['vhigh', 'vhigh', '4', '2', 'med', 'med', 'unacc']\nsafety => med\npersons => 2\n分类为 => unacc\n\n\n数据标签为 ['buying', 'maint', 'doors', 'persons', 'lug_boot', 'safety']\n测试数据为 ['high', 'low', '5more', 'more', 'small', 'low', 'unacc']\nsafety => low\n分类为 => unacc\n\n\n数据标签为 ['buying', 'maint', 'doors', 'persons', 'lug_boot', 'safety']\n测试数据为 ['med', 'low', '3', 'more', 'big', 'med', 'good']\nsafety => med\npersons => more\nbuying => med\nlug_boot => big\nmaint => low\n分类为 => good\n\n\n数据标签为 ['buying', 'maint', 'doors', 'persons', 'lug_boot', 'safety']\n测试数据为 ['low', 'vhigh', '2', '4', 'med', 'low', 'unacc']\nsafety => low\n分类为 => unacc\n\n\n数据标签为 ['buying', 'maint', 'doors', 'persons', 'lug_boot', 'safety']\n测试数据为 ['vhigh', 'low', '2', '4', 'small', 'med', 'unacc']\nsafety => med\npersons => 4\nbuying => vhigh\nmaint => low\nlug_boot => small\n分类为 => unacc\n\n\n数据标签为 ['buying', 'maint', 'doors', 'persons', 'lug_boot', 'safety']\n测试数据为 ['med', 'vhigh', '4', 'more', 'big', 'low', 'unacc']\nsafety => low\n分类为 => unacc\n\n\n数据标签为 ['buying', 'maint', 'doors', 'persons', 'lug_boot', 'safety']\n测试数据为 ['vhigh', 'low', '5more', 'more', 'med', 'low', 'unacc']\nsafety => low\n分类为 => unacc\n\n\n数据标签为 ['buying', 'maint', 'doors', 'persons', 'lug_boot', 'safety']\n测试数据为 ['med', 'low', '5more', '2', 'small', 'med', 'unacc']\nsafety => med\npersons => 2\n分类为 => unacc"
     ]
    },
    {
     "name": "stdout",
     "output_type": "stream",
     "text": [
      "\n\n\n数据标签为 ['buying', 'maint', 'doors', 'persons', 'lug_boot', 'safety']\n测试数据为 ['high', 'med', '5more', '4', 'med', 'high', 'acc']\nsafety => high\npersons => 4\nbuying => high\nmaint => med\n分类为 => acc\n\n\n数据标签为 ['buying', 'maint', 'doors', 'persons', 'lug_boot', 'safety']\n测试数据为 ['low', 'high', '4', '2', 'small', 'med', 'unacc']\nsafety => med\npersons => 2\n分类为 => unacc\n\n\n数据标签为 ['buying', 'maint', 'doors', 'persons', 'lug_boot', 'safety']\n测试数据为 ['med', 'med', '4', '4', 'small', 'low', 'unacc']\nsafety => low\n分类为 => unacc\n\n\n数据标签为 ['buying', 'maint', 'doors', 'persons', 'lug_boot', 'safety']\n测试数据为 ['vhigh', 'vhigh', '3', '2', 'small', 'low', 'unacc']\nsafety => low\n分类为 => unacc\n\n\n"
     ]
    }
   ],
   "source": [
    "temp_test_list = test_list[0:21]#取20个测试集\n",
    "\n",
    "#使用决策树执行分类，返回分类结果\n",
    "def classify(tree, label, testVec):  # label为特征的标签值；testVec为测试数据，即所有特征的具体值构成的向量\n",
    "    firstFeat = ''  # 取出tree的第一个键\n",
    "    for i in tree.keys():\n",
    "        firstFeat = i\n",
    "        break\n",
    "    secondDict = tree[firstFeat]  # 取出tree第一个键的值，即tree的第二个字典（包含关系）\n",
    "    labelIndex = label.index(firstFeat)  # 得到第一个特征firstFeat在标签label中的索引\n",
    "    classLabel = ''\n",
    "    print(firstFeat,'=>', testVec[labelIndex])\n",
    "    for key in secondDict.keys():  # 遍历第二个字典的键\n",
    "        if testVec[labelIndex] == key:  # 如果第一个特征的测试值与第二个字典的键相等时\n",
    "            if type(secondDict[key]).__name__ == 'dict':  # 如果第二个字典的值还是一个字典，说明分类还没结束，递归执行classify函数\n",
    "                classLabel = classify(secondDict[key], label, testVec)  # 递归函数中只有输入的第一个参数不同，不断向字典内层渗入\n",
    "            else:\n",
    "                classLabel = secondDict[key]  # 最后将得到的分类值赋给classLabel输出\n",
    "    \n",
    "    return classLabel\n",
    "tree = loadTree('Experiment1/data/dataTree_3.txt')\n",
    "pos_count = 0#正确分类数量\n",
    "neg_count = 0 #错误分类数量\n",
    "classify_result_list = [] #存储分类结果\n",
    "\n",
    "for test in temp_test_list:\n",
    "    print('数据标签为',label_set)\n",
    "    print('测试数据为',test )\n",
    "    classify_result = classify(tree,label_set,test)\n",
    "    print('分类为','=>',classify_result)\n",
    "    print()\n",
    "    print()\n",
    "    \n",
    "    # classify_result_list.append(classify_result)\n",
    "    "
   ]
  },
  {
   "cell_type": "code",
   "execution_count": null,
   "metadata": {},
   "outputs": [],
   "source": []
  }
 ],
 "metadata": {
  "kernelspec": {
   "display_name": "Python 2",
   "language": "python",
   "name": "python2"
  },
  "language_info": {
   "codemirror_mode": {
    "name": "ipython",
    "version": 2
   },
   "file_extension": ".py",
   "mimetype": "text/x-python",
   "name": "python",
   "nbconvert_exporter": "python",
   "pygments_lexer": "ipython2",
   "version": "2.7.6"
  }
 },
 "nbformat": 4,
 "nbformat_minor": 0
}

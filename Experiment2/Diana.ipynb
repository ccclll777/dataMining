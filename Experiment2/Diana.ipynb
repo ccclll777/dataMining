{
 "cells": [
  {
   "cell_type": "code",
   "execution_count": 1,
   "metadata": {
    "collapsed": true
   },
   "outputs": [],
   "source": [
    "import numpy as np\n",
    "import matplotlib.pyplot as plt\n",
    "class Diana(object):\n",
    "    def __init__(self,length):\n",
    "        self.data_lists = []#数据集\n",
    "        self.datas_length = 0#数据集大小\n",
    "        self.dissimilarity_matrix = []#点之间的相异矩阵\n",
    "        self.point_index_list = []#点的序号\n",
    "        self.current_clusters = []#簇\n",
    "        self.load_dataset('Experiment2/data/temp.csv',length)\n",
    "        self.get_dissimilarity_matrix()\n",
    "        self.clusters_core = []# 聚类核心\n",
    "\n",
    "    \"\"\"\n",
    "    加载数据集    latitude longitude\n",
    "    \"\"\"\n",
    "\n",
    "    def load_dataset(self,filename,length):\n",
    "        r = open(filename, 'r')\n",
    "        datas = r.readlines()\n",
    "        list = []\n",
    "        del (datas[0])\n",
    "        for i in range(0, len(datas)):\n",
    "            temp_list = datas[i].split(',')\n",
    "            if float(temp_list[1]) > -15 and  float(temp_list[2]) < -36.9 :\n",
    "                list.append((float(temp_list[1]), float(temp_list[2])))\n",
    "            if i > length:\n",
    "                break\n",
    "        self.data_lists = list\n",
    "        self.datas_length = len(list)\n",
    "\n",
    "    \"\"\"\n",
    "    计算两个向量的距离\n",
    "    \"\"\"\n",
    "    def dist(self,vec1, vec2):\n",
    "        # dist = distance(vec1, vec2).miles\n",
    "        dist = np.sqrt(np.sum(np.square(np.array(vec1) - np.array(vec2))))\n",
    "        return dist\n",
    "\n",
    "    \"\"\"\n",
    "    计算相异矩阵  二维矩阵 存放两两点之间的距离\n",
    "    顺便生成每个点的序号 与矩阵的index相对应\n",
    "    \"\"\"\n",
    "    def get_dissimilarity_matrix(self):\n",
    "        self.dissimilarity_matrix = np.zeros((self.datas_length,self.datas_length))\n",
    "        for i in range(0,self.datas_length):\n",
    "            for j in range(0,self.datas_length):\n",
    "                #计算每两个点的距离 然后存入相异性矩阵\n",
    "                dist_i_j = self.dist(self.data_lists[i],self.data_lists[j])\n",
    "                self.dissimilarity_matrix[i][j]  = dist_i_j\n",
    "\n",
    "\n",
    "        #计算每个点的序号\n",
    "        for i in range(0, self.datas_length):\n",
    "            self.point_index_list.append(i)\n",
    "    \"\"\"\n",
    "    计算某一个簇内的点 与簇内其他点的平均相异度  \n",
    "    参数ele为簇内的某个点的标号\n",
    "    element为这个簇内的所有点的标号\n",
    "    \"\"\"\n",
    "    def avg_dissimilar_within_group_element(self,ele, element_list):\n",
    "        # max_diameter = -np.inf\n",
    "        sum_dissm = 0\n",
    "        for i in element_list:\n",
    "            sum_dissm += self.dissimilarity_matrix[ele][i]\n",
    "            # if (self.dissimilarity_matrix[ele][i] > max_diameter):\n",
    "            #     max_diameter = self.dissimilarity_matrix[ele][i]\n",
    "        if (len(element_list) > 1):\n",
    "            avg = sum_dissm / (len(element_list) - 1)\n",
    "        else:\n",
    "            avg = 0\n",
    "        return avg\n",
    "\n",
    "    \"\"\"\n",
    "      计算某一个簇内的点 与不再这个簇的点的平均距离\n",
    "      ele为簇内的某个点的标号\n",
    "      element为不在这个簇内的元素\n",
    "      \"\"\"\n",
    "\n",
    "    def avg_dissimilar_across_group_element(self,ele, splinter_list):\n",
    "        if len(splinter_list) == 0:\n",
    "            return 0\n",
    "        sum_dissm = 0\n",
    "        for j in splinter_list:\n",
    "            sum_dissm = sum_dissm + self.dissimilarity_matrix[ele][j]\n",
    "        avg = sum_dissm / (len(splinter_list))\n",
    "        return avg\n",
    "\n",
    "\n",
    "\n",
    "    \"\"\"\n",
    "        将一个簇划分为两个  \n",
    "        element_list为等待划分的元素标号\n",
    "        old_party, splinter_group为划分结果\n",
    "    \"\"\"\n",
    "    def split(self,element_list):\n",
    "        #切分的元素列表\n",
    "        old_party = element_list\n",
    "\n",
    "        splinter_group = []\n",
    "        #计算最大平均相异度的点 most_dissm_object_index   flag为是否还能继续划分\n",
    "        most_dissm_object_index, flag =self.splinter_avg_dissimilar(old_party, splinter_group)\n",
    "        #flag为是否还能继续划分 flag =1说明还能继续划分  flag=-1不能继续划分\n",
    "        while (flag > 0):\n",
    "            old_party.remove(most_dissm_object_index)\n",
    "            splinter_group.append(most_dissm_object_index)\n",
    "            most_dissm_object_index, flag = self.splinter_avg_dissimilar(old_party, splinter_group)\n",
    "        return old_party, splinter_group\n",
    "\n",
    "    \"\"\"\n",
    "           判断old_party中的元素是否要被划分到splinter_group\n",
    "           采用计算old_party中的点element的在old_party平均相异度  和  element在splinter_group的平均相异度，\n",
    "           如果后者小于前者 则将element加入splinter_group\n",
    "        \"\"\"\n",
    "    def splinter_avg_dissimilar(self,old_party, splinter_group):\n",
    "            most_dissm_object_value = -np.inf\n",
    "            most_dissm_object_index = None\n",
    "            for ele in old_party:\n",
    "                x = self.avg_dissimilar_within_group_element(ele, old_party)#在old_party中的某个元素ele 与old_party中其他元素的平均相异度\n",
    "                y = self.avg_dissimilar_across_group_element(ele, splinter_group)#在old_party中的某个元素ele 与splinter_group中元素的平均相异度\n",
    "                #diff为正 说明 这个点需要被划分出去  如果为负 说明不需要继续划分了\n",
    "                diff = x - y\n",
    "                #计算x与y的最大差  和取得此差的元素标号\n",
    "                if diff > most_dissm_object_value:\n",
    "                    most_dissm_object_value = diff\n",
    "                    most_dissm_object_index = ele\n",
    "            # 如果x与y的最大差为正 说明 这个点需要被划分出去  如果为负 说明ele与old_party中的元素 相异度更小 说明不需要继续划分了\n",
    "            if most_dissm_object_value > 0:\n",
    "                return most_dissm_object_index, 1\n",
    "            else:\n",
    "                return -1, -1\n",
    "\n",
    "    \"\"\"\n",
    "    计算具有最大直径的簇  作为下次被划分的簇\n",
    "    \"\"\"\n",
    "    def max_diameter(self):\n",
    "        max_diameter_cluster_index = None\n",
    "        max_diameter_cluster_value = -np.inf\n",
    "        index = 0\n",
    "        for element_list in self.current_clusters:\n",
    "            for i in element_list:\n",
    "                for j in element_list:\n",
    "                    if self.dissimilarity_matrix[i][j] > max_diameter_cluster_value:\n",
    "                        max_diameter_cluster_value = self.dissimilarity_matrix[i][j]\n",
    "                        max_diameter_cluster_index = index\n",
    "\n",
    "            index += 1\n",
    "\n",
    "        if (max_diameter_cluster_value <= 0):\n",
    "            return -1\n",
    "\n",
    "        return max_diameter_cluster_index\n",
    "\n",
    "    def plotRes(self):\n",
    "\n",
    "        scatterColors = ['black', 'blue', 'green', 'yellow', 'red', 'purple', 'orange', 'brown', 'm', 'fuchsia',\n",
    "                         'crimson', 'dodgerblue', 'lime', 'coral', 'peru', 'khaki', 'black', 'blue', 'green', 'yellow',\n",
    "                         'red', 'purple', 'orange', 'brown', 'm', 'fuchsia', 'crimson', 'dodgerblue', 'lime', 'coral',\n",
    "                         'peru', 'khaki', 'black', 'blue', 'green', 'yellow', 'red', 'purple', 'orange', 'brown', 'm',\n",
    "                         'fuchsia', 'crimson', 'dodgerblue', 'lime', 'coral', 'peru', 'khaki']\n",
    "        x = 0\n",
    "        for i in self.current_clusters:\n",
    "            for j in i:\n",
    "                plt.scatter(self.data_lists[j][0], self.data_lists[j][1], c=scatterColors[x], alpha=1, marker='+')\n",
    "            x +=1\n",
    "        plt.title(\"Diana Clustering\")\n",
    "        plt.show()"
   ]
  },
  {
   "cell_type": "code",
   "execution_count": 3,
   "metadata": {},
   "outputs": [],
   "source": [
    "# 聚类平均距离\n",
    "def avg_dis(cluster):\n",
    "    sum = 0.0\n",
    "    if len(cluster) == 1:\n",
    "        return 0\n",
    "    for i in cluster:\n",
    "        for j in cluster:\n",
    "            sum += diana.dist(diana.data_lists[i], diana.data_lists[j])\n",
    "    l = len(cluster)  # 聚类点的个数\n",
    "    return sum / (l * (l - 1))\n",
    "\n",
    "\n",
    "def compute_Rij(i, j, k, cluster_res, cluster_core):\n",
    "    avg_ci = avg_dis(cluster_res[i])\n",
    "    avg_cj = avg_dis(cluster_res[j])\n",
    "    dcen = diana.dist(cluster_core[i], cluster_core[j])  # 两个聚类核心点的距离\n",
    "    res = (avg_ci + avg_cj) / dcen\n",
    "    return res\n",
    "\n",
    "\n",
    "def compute_max(index, cluster_res, k, cluster_core):\n",
    "    list_r = []\n",
    "    for j in range(0, k):\n",
    "        if index != j:\n",
    "            temp = compute_Rij(index, j, k, cluster_res, cluster_core)\n",
    "            list_r.append(temp)\n",
    "    return max(list_r)\n",
    "\n",
    "\n",
    "def computer_db_index(cluster_res, cluster_core):\n",
    "    k = len(cluster_core)  # 聚类总数\n",
    "    sigma_R = 0.0\n",
    "    for i in range(0, k):\n",
    "        sigma_R += compute_max(i, cluster_res, k, cluster_core)\n",
    "    dbi = float(sigma_R) / float(k)\n",
    "    return dbi\n"
   ]
  },
  {
   "cell_type": "code",
   "execution_count": 4,
   "metadata": {},
   "outputs": [
    {
     "name": "stdout",
     "output_type": "stream",
     "text": [
      "数据点的个数为: 300     簇的个数为： 10\n"
     ]
    },
    {
     "data": {
      "image/png": "[encoded data removed]",
      "text/plain": [
       "<Figure size 432x288 with 1 Axes>"
      ]
     },
     "metadata": {},
     "output_type": "display_data"
    },
    {
     "name": "stdout",
     "output_type": "stream",
     "text": [
      "簇的db指数为 0.7118861307330535\n"
     ]
    }
   ],
   "source": [
    "diana = Diana(300)\n",
    "\n",
    "# diana.load_dataset('data/temp.csv',500)\n",
    "# diana.get_dissimilarity_matrix()\n",
    "#簇\n",
    "diana.current_clusters = ([diana.point_index_list])\n",
    "\n",
    "#当前层数\n",
    "level = 1\n",
    "index = 0       #当前被划分的簇标记\n",
    "k = 10\n",
    "print(\"数据点的个数为:\",300,\"   \",\"簇的个数为：\",k)\n",
    "while index != -1 and level<k:\n",
    "    # print(level, diana.current_clusters)\n",
    "    #划分簇   直到满足条件 将一个簇分为两个\n",
    "    a_clstr, b_clstr = diana.split(diana.current_clusters[index])\n",
    "    #将已经被进一步划分的簇删除  然后加入划分后的簇\n",
    "    del diana.current_clusters[index]\n",
    "    diana.current_clusters.append(a_clstr)\n",
    "    diana.current_clusters.append(b_clstr)\n",
    "    #寻找具有最大直径的簇  将起作为下一次划分的对象\n",
    "    index = diana.max_diameter()\n",
    "    level += 1\n",
    "\n",
    "# print(level, diana.current_clusters)\n",
    "\n",
    "diana.plotRes()\n",
    "#计算聚类核心\n",
    "for i in diana.current_clusters:\n",
    "    x = 0.0\n",
    "    y = 0.0\n",
    "    for j in i:\n",
    "        x +=diana.data_lists[j][0]\n",
    "        y += diana.data_lists[j][1]\n",
    "    diana.clusters_core.append((x/len(i),y/len(i)))\n",
    "dbi = computer_db_index(diana.current_clusters,diana.clusters_core)\n",
    "print('簇的db指数为',dbi)"
   ]
  },
  {
   "cell_type": "code",
   "execution_count": 9,
   "metadata": {},
   "outputs": [
    {
     "name": "stdout",
     "output_type": "stream",
     "text": [
      "数据点的个数为: 300     簇的个数为： 15\n"
     ]
    },
    {
     "data": {
      "image/png": "[encoded data removed]",
      "text/plain": [
       "<Figure size 432x288 with 1 Axes>"
      ]
     },
     "metadata": {},
     "output_type": "display_data"
    },
    {
     "name": "stdout",
     "output_type": "stream",
     "text": [
      "簇的db指数为 0.8790177344272092\n"
     ]
    }
   ],
   "source": [
    "diana = Diana(300)\n",
    "\n",
    "# diana.load_dataset('data/temp.csv',500)\n",
    "# diana.get_dissimilarity_matrix()\n",
    "#簇\n",
    "diana.current_clusters = ([diana.point_index_list])\n",
    "\n",
    "#当前层数\n",
    "level = 1\n",
    "index = 0       #当前被划分的簇标记\n",
    "k = 15\n",
    "print(\"数据点的个数为:\",300,\"   \",\"簇的个数为：\",k)\n",
    "while index != -1 and level<k:\n",
    "    # print(level, diana.current_clusters)\n",
    "    #划分簇   直到满足条件 将一个簇分为两个\n",
    "    a_clstr, b_clstr = diana.split(diana.current_clusters[index])\n",
    "    #将已经被进一步划分的簇删除  然后加入划分后的簇\n",
    "    del diana.current_clusters[index]\n",
    "    diana.current_clusters.append(a_clstr)\n",
    "    diana.current_clusters.append(b_clstr)\n",
    "    #寻找具有最大直径的簇  将起作为下一次划分的对象\n",
    "    index = diana.max_diameter()\n",
    "    level += 1\n",
    "\n",
    "# print(level, diana.current_clusters)\n",
    "\n",
    "diana.plotRes()\n",
    "#计算聚类核心\n",
    "for i in diana.current_clusters:\n",
    "    x = 0.0\n",
    "    y = 0.0\n",
    "    for j in i:\n",
    "        x +=diana.data_lists[j][0]\n",
    "        y += diana.data_lists[j][1]\n",
    "    diana.clusters_core.append((x/len(i),y/len(i)))\n",
    "dbi = computer_db_index(diana.current_clusters,diana.clusters_core)\n",
    "print('簇的db指数为',dbi)"
   ]
  },
  {
   "cell_type": "code",
   "execution_count": 10,
   "metadata": {},
   "outputs": [
    {
     "name": "stdout",
     "output_type": "stream",
     "text": [
      "数据点的个数为: 300     簇的个数为： 7\n"
     ]
    },
    {
     "data": {
      "image/png": "[encoded data removed]",
      "text/plain": [
       "<Figure size 432x288 with 1 Axes>"
      ]
     },
     "metadata": {},
     "output_type": "display_data"
    },
    {
     "name": "stdout",
     "output_type": "stream",
     "text": [
      "簇的db指数为 0.7688422238961578\n"
     ]
    }
   ],
   "source": [
    "diana = Diana(300)\n",
    "\n",
    "# diana.load_dataset('data/temp.csv',500)\n",
    "# diana.get_dissimilarity_matrix()\n",
    "#簇\n",
    "diana.current_clusters = ([diana.point_index_list])\n",
    "\n",
    "#当前层数\n",
    "level = 1\n",
    "index = 0       #当前被划分的簇标记\n",
    "k = 7\n",
    "print(\"数据点的个数为:\",300,\"   \",\"簇的个数为：\",k)\n",
    "while index != -1 and level<k:\n",
    "    # print(level, diana.current_clusters)\n",
    "    #划分簇   直到满足条件 将一个簇分为两个\n",
    "    a_clstr, b_clstr = diana.split(diana.current_clusters[index])\n",
    "    #将已经被进一步划分的簇删除  然后加入划分后的簇\n",
    "    del diana.current_clusters[index]\n",
    "    diana.current_clusters.append(a_clstr)\n",
    "    diana.current_clusters.append(b_clstr)\n",
    "    #寻找具有最大直径的簇  将起作为下一次划分的对象\n",
    "    index = diana.max_diameter()\n",
    "    level += 1\n",
    "\n",
    "# print(level, diana.current_clusters)\n",
    "\n",
    "diana.plotRes()\n",
    "#计算聚类核心\n",
    "for i in diana.current_clusters:\n",
    "    x = 0.0\n",
    "    y = 0.0\n",
    "    for j in i:\n",
    "        x +=diana.data_lists[j][0]\n",
    "        y += diana.data_lists[j][1]\n",
    "    diana.clusters_core.append((x/len(i),y/len(i)))\n",
    "dbi = computer_db_index(diana.current_clusters,diana.clusters_core)\n",
    "print('簇的db指数为',dbi)"
   ]
  },
  {
   "cell_type": "code",
   "execution_count": 12,
   "metadata": {},
   "outputs": [
    {
     "name": "stdout",
     "output_type": "stream",
     "text": [
      "数据点的个数为: 500     簇的个数为： 15\n"
     ]
    },
    {
     "data": {
      "image/png": "[encoded data removed]",
      "text/plain": [
       "<Figure size 432x288 with 1 Axes>"
      ]
     },
     "metadata": {},
     "output_type": "display_data"
    },
    {
     "name": "stdout",
     "output_type": "stream",
     "text": [
      "簇的db指数为 0.8767334344177081\n"
     ]
    }
   ],
   "source": [
    "diana = Diana(500)\n",
    "\n",
    "# diana.load_dataset('data/temp.csv',500)\n",
    "# diana.get_dissimilarity_matrix()\n",
    "#簇\n",
    "diana.current_clusters = ([diana.point_index_list])\n",
    "\n",
    "#当前层数\n",
    "level = 1\n",
    "index = 0       #当前被划分的簇标记\n",
    "k = 15\n",
    "print(\"数据点的个数为:\",500,\"   \",\"簇的个数为：\",k)\n",
    "while index != -1 and level<k:\n",
    "    # print(level, diana.current_clusters)\n",
    "    #划分簇   直到满足条件 将一个簇分为两个\n",
    "    a_clstr, b_clstr = diana.split(diana.current_clusters[index])\n",
    "    #将已经被进一步划分的簇删除  然后加入划分后的簇\n",
    "    del diana.current_clusters[index]\n",
    "    diana.current_clusters.append(a_clstr)\n",
    "    diana.current_clusters.append(b_clstr)\n",
    "    #寻找具有最大直径的簇  将起作为下一次划分的对象\n",
    "    index = diana.max_diameter()\n",
    "    level += 1\n",
    "\n",
    "# print(level, diana.current_clusters)\n",
    "\n",
    "diana.plotRes()\n",
    "#计算聚类核心\n",
    "for i in diana.current_clusters:\n",
    "    x = 0.0\n",
    "    y = 0.0\n",
    "    for j in i:\n",
    "        x +=diana.data_lists[j][0]\n",
    "        y += diana.data_lists[j][1]\n",
    "    diana.clusters_core.append((x/len(i),y/len(i)))\n",
    "dbi = computer_db_index(diana.current_clusters,diana.clusters_core)\n",
    "print('簇的db指数为',dbi)"
   ]
  },
  {
   "cell_type": "code",
   "execution_count": 13,
   "metadata": {},
   "outputs": [
    {
     "name": "stdout",
     "output_type": "stream",
     "text": [
      "数据点的个数为: 500     簇的个数为： 20\n"
     ]
    },
    {
     "data": {
      "image/png": "[encoded data removed]",
      "text/plain": [
       "<Figure size 432x288 with 1 Axes>"
      ]
     },
     "metadata": {},
     "output_type": "display_data"
    },
    {
     "name": "stdout",
     "output_type": "stream",
     "text": [
      "簇的db指数为 0.9721158867262283\n"
     ]
    }
   ],
   "source": [
    "diana = Diana(500)\n",
    "\n",
    "# diana.load_dataset('data/temp.csv',500)\n",
    "# diana.get_dissimilarity_matrix()\n",
    "#簇\n",
    "diana.current_clusters = ([diana.point_index_list])\n",
    "\n",
    "#当前层数\n",
    "level = 1\n",
    "index = 0       #当前被划分的簇标记\n",
    "k = 20\n",
    "print(\"数据点的个数为:\",500,\"   \",\"簇的个数为：\",k)\n",
    "while index != -1 and level<k:\n",
    "    # print(level, diana.current_clusters)\n",
    "    #划分簇   直到满足条件 将一个簇分为两个\n",
    "    a_clstr, b_clstr = diana.split(diana.current_clusters[index])\n",
    "    #将已经被进一步划分的簇删除  然后加入划分后的簇\n",
    "    del diana.current_clusters[index]\n",
    "    diana.current_clusters.append(a_clstr)\n",
    "    diana.current_clusters.append(b_clstr)\n",
    "    #寻找具有最大直径的簇  将起作为下一次划分的对象\n",
    "    index = diana.max_diameter()\n",
    "    level += 1\n",
    "\n",
    "# print(level, diana.current_clusters)\n",
    "\n",
    "diana.plotRes()\n",
    "#计算聚类核心\n",
    "for i in diana.current_clusters:\n",
    "    x = 0.0\n",
    "    y = 0.0\n",
    "    for j in i:\n",
    "        x +=diana.data_lists[j][0]\n",
    "        y += diana.data_lists[j][1]\n",
    "    diana.clusters_core.append((x/len(i),y/len(i)))\n",
    "dbi = computer_db_index(diana.current_clusters,diana.clusters_core)\n",
    "print('簇的db指数为',dbi)"
   ]
  },
  {
   "cell_type": "code",
   "execution_count": 5,
   "metadata": {},
   "outputs": [
    {
     "name": "stdout",
     "output_type": "stream",
     "text": [
      "数据点的个数为: 500     簇的个数为： 25\n"
     ]
    },
    {
     "ename": "KeyboardInterrupt",
     "evalue": "",
     "traceback": [
      "\u001b[0;31m---------------------------------------------------------------------------\u001b[0m",
      "\u001b[0;31mKeyboardInterrupt\u001b[0m                         Traceback (most recent call last)",
      "\u001b[0;32m<ipython-input-5-25a354919583>\u001b[0m in \u001b[0;36m<module>\u001b[0;34m\u001b[0m\n\u001b[1;32m     14\u001b[0m     \u001b[0;31m# print(level, diana.current_clusters)\u001b[0m\u001b[0;34m\u001b[0m\u001b[0;34m\u001b[0m\u001b[0;34m\u001b[0m\u001b[0m\n\u001b[1;32m     15\u001b[0m     \u001b[0;31m#划分簇   直到满足条件 将一个簇分为两个\u001b[0m\u001b[0;34m\u001b[0m\u001b[0;34m\u001b[0m\u001b[0;34m\u001b[0m\u001b[0m\n\u001b[0;32m---> 16\u001b[0;31m     \u001b[0ma_clstr\u001b[0m\u001b[0;34m,\u001b[0m \u001b[0mb_clstr\u001b[0m \u001b[0;34m=\u001b[0m \u001b[0mdiana\u001b[0m\u001b[0;34m.\u001b[0m\u001b[0msplit\u001b[0m\u001b[0;34m(\u001b[0m\u001b[0mdiana\u001b[0m\u001b[0;34m.\u001b[0m\u001b[0mcurrent_clusters\u001b[0m\u001b[0;34m[\u001b[0m\u001b[0mindex\u001b[0m\u001b[0;34m]\u001b[0m\u001b[0;34m)\u001b[0m\u001b[0;34m\u001b[0m\u001b[0;34m\u001b[0m\u001b[0m\n\u001b[0m\u001b[1;32m     17\u001b[0m     \u001b[0;31m#将已经被进一步划分的簇删除  然后加入划分后的簇\u001b[0m\u001b[0;34m\u001b[0m\u001b[0;34m\u001b[0m\u001b[0;34m\u001b[0m\u001b[0m\n\u001b[1;32m     18\u001b[0m     \u001b[0;32mdel\u001b[0m \u001b[0mdiana\u001b[0m\u001b[0;34m.\u001b[0m\u001b[0mcurrent_clusters\u001b[0m\u001b[0;34m[\u001b[0m\u001b[0mindex\u001b[0m\u001b[0;34m]\u001b[0m\u001b[0;34m\u001b[0m\u001b[0;34m\u001b[0m\u001b[0m\n",
      "\u001b[0;32m<ipython-input-1-b1117812466b>\u001b[0m in \u001b[0;36msplit\u001b[0;34m(self, element_list)\u001b[0m\n\u001b[1;32m    105\u001b[0m             \u001b[0mold_party\u001b[0m\u001b[0;34m.\u001b[0m\u001b[0mremove\u001b[0m\u001b[0;34m(\u001b[0m\u001b[0mmost_dissm_object_index\u001b[0m\u001b[0;34m)\u001b[0m\u001b[0;34m\u001b[0m\u001b[0;34m\u001b[0m\u001b[0m\n\u001b[1;32m    106\u001b[0m             \u001b[0msplinter_group\u001b[0m\u001b[0;34m.\u001b[0m\u001b[0mappend\u001b[0m\u001b[0;34m(\u001b[0m\u001b[0mmost_dissm_object_index\u001b[0m\u001b[0;34m)\u001b[0m\u001b[0;34m\u001b[0m\u001b[0;34m\u001b[0m\u001b[0m\n\u001b[0;32m--> 107\u001b[0;31m             \u001b[0mmost_dissm_object_index\u001b[0m\u001b[0;34m,\u001b[0m \u001b[0mflag\u001b[0m \u001b[0;34m=\u001b[0m \u001b[0mself\u001b[0m\u001b[0;34m.\u001b[0m\u001b[0msplinter_avg_dissimilar\u001b[0m\u001b[0;34m(\u001b[0m\u001b[0mold_party\u001b[0m\u001b[0;34m,\u001b[0m \u001b[0msplinter_group\u001b[0m\u001b[0;34m)\u001b[0m\u001b[0;34m\u001b[0m\u001b[0;34m\u001b[0m\u001b[0m\n\u001b[0m\u001b[1;32m    108\u001b[0m         \u001b[0;32mreturn\u001b[0m \u001b[0mold_party\u001b[0m\u001b[0;34m,\u001b[0m \u001b[0msplinter_group\u001b[0m\u001b[0;34m\u001b[0m\u001b[0;34m\u001b[0m\u001b[0m\n\u001b[1;32m    109\u001b[0m \u001b[0;34m\u001b[0m\u001b[0m\n",
      "\u001b[0;32m<ipython-input-1-b1117812466b>\u001b[0m in \u001b[0;36msplinter_avg_dissimilar\u001b[0;34m(self, old_party, splinter_group)\u001b[0m\n\u001b[1;32m    117\u001b[0m             \u001b[0mmost_dissm_object_index\u001b[0m \u001b[0;34m=\u001b[0m \u001b[0;32mNone\u001b[0m\u001b[0;34m\u001b[0m\u001b[0;34m\u001b[0m\u001b[0m\n\u001b[1;32m    118\u001b[0m             \u001b[0;32mfor\u001b[0m \u001b[0mele\u001b[0m \u001b[0;32min\u001b[0m \u001b[0mold_party\u001b[0m\u001b[0;34m:\u001b[0m\u001b[0;34m\u001b[0m\u001b[0;34m\u001b[0m\u001b[0m\n\u001b[0;32m--> 119\u001b[0;31m                 \u001b[0mx\u001b[0m \u001b[0;34m=\u001b[0m \u001b[0mself\u001b[0m\u001b[0;34m.\u001b[0m\u001b[0mavg_dissimilar_within_group_element\u001b[0m\u001b[0;34m(\u001b[0m\u001b[0mele\u001b[0m\u001b[0;34m,\u001b[0m \u001b[0mold_party\u001b[0m\u001b[0;34m)\u001b[0m\u001b[0;31m#在old_party中的某个元素ele 与old_party中其他元素的平均相异度\u001b[0m\u001b[0;34m\u001b[0m\u001b[0;34m\u001b[0m\u001b[0m\n\u001b[0m\u001b[1;32m    120\u001b[0m                 \u001b[0my\u001b[0m \u001b[0;34m=\u001b[0m \u001b[0mself\u001b[0m\u001b[0;34m.\u001b[0m\u001b[0mavg_dissimilar_across_group_element\u001b[0m\u001b[0;34m(\u001b[0m\u001b[0mele\u001b[0m\u001b[0;34m,\u001b[0m \u001b[0msplinter_group\u001b[0m\u001b[0;34m)\u001b[0m\u001b[0;31m#在old_party中的某个元素ele 与splinter_group中元素的平均相异度\u001b[0m\u001b[0;34m\u001b[0m\u001b[0;34m\u001b[0m\u001b[0m\n\u001b[1;32m    121\u001b[0m                 \u001b[0;31m#diff为正 说明 这个点需要被划分出去  如果为负 说明不需要继续划分了\u001b[0m\u001b[0;34m\u001b[0m\u001b[0;34m\u001b[0m\u001b[0;34m\u001b[0m\u001b[0m\n",
      "\u001b[0;32m<ipython-input-1-b1117812466b>\u001b[0m in \u001b[0;36mavg_dissimilar_within_group_element\u001b[0;34m(self, ele, element_list)\u001b[0m\n\u001b[1;32m     63\u001b[0m         \u001b[0msum_dissm\u001b[0m \u001b[0;34m=\u001b[0m \u001b[0;36m0\u001b[0m\u001b[0;34m\u001b[0m\u001b[0;34m\u001b[0m\u001b[0m\n\u001b[1;32m     64\u001b[0m         \u001b[0;32mfor\u001b[0m \u001b[0mi\u001b[0m \u001b[0;32min\u001b[0m \u001b[0melement_list\u001b[0m\u001b[0;34m:\u001b[0m\u001b[0;34m\u001b[0m\u001b[0;34m\u001b[0m\u001b[0m\n\u001b[0;32m---> 65\u001b[0;31m             \u001b[0msum_dissm\u001b[0m \u001b[0;34m+=\u001b[0m \u001b[0mself\u001b[0m\u001b[0;34m.\u001b[0m\u001b[0mdissimilarity_matrix\u001b[0m\u001b[0;34m[\u001b[0m\u001b[0mele\u001b[0m\u001b[0;34m]\u001b[0m\u001b[0;34m[\u001b[0m\u001b[0mi\u001b[0m\u001b[0;34m]\u001b[0m\u001b[0;34m\u001b[0m\u001b[0;34m\u001b[0m\u001b[0m\n\u001b[0m\u001b[1;32m     66\u001b[0m             \u001b[0;31m# if (self.dissimilarity_matrix[ele][i] > max_diameter):\u001b[0m\u001b[0;34m\u001b[0m\u001b[0;34m\u001b[0m\u001b[0;34m\u001b[0m\u001b[0m\n\u001b[1;32m     67\u001b[0m             \u001b[0;31m#     max_diameter = self.dissimilarity_matrix[ele][i]\u001b[0m\u001b[0;34m\u001b[0m\u001b[0;34m\u001b[0m\u001b[0;34m\u001b[0m\u001b[0m\n",
      "\u001b[0;31mKeyboardInterrupt\u001b[0m: "
     ],
     "output_type": "error"
    }
   ],
   "source": [
    "diana = Diana(2000)\n",
    "\n",
    "# diana.load_dataset('data/temp.csv',500)\n",
    "# diana.get_dissimilarity_matrix()\n",
    "#簇\n",
    "diana.current_clusters = ([diana.point_index_list])\n",
    "\n",
    "#当前层数\n",
    "level = 1\n",
    "index = 0       #当前被划分的簇标记\n",
    "k = 25\n",
    "print(\"数据点的个数为:\",500,\"   \",\"簇的个数为：\",k)\n",
    "while index != -1 and level<k:\n",
    "    # print(level, diana.current_clusters)\n",
    "    #划分簇   直到满足条件 将一个簇分为两个\n",
    "    a_clstr, b_clstr = diana.split(diana.current_clusters[index])\n",
    "    #将已经被进一步划分的簇删除  然后加入划分后的簇\n",
    "    del diana.current_clusters[index]\n",
    "    diana.current_clusters.append(a_clstr)\n",
    "    diana.current_clusters.append(b_clstr)\n",
    "    #寻找具有最大直径的簇  将起作为下一次划分的对象\n",
    "    index = diana.max_diameter()\n",
    "    level += 1\n",
    "\n",
    "# print(level, diana.current_clusters)\n",
    "\n",
    "diana.plotRes()\n",
    "#计算聚类核心\n",
    "for i in diana.current_clusters:\n",
    "    x = 0.0\n",
    "    y = 0.0\n",
    "    for j in i:\n",
    "        x +=diana.data_lists[j][0]\n",
    "        y += diana.data_lists[j][1]\n",
    "    diana.clusters_core.append((x/len(i),y/len(i)))\n",
    "dbi = computer_db_index(diana.current_clusters,diana.clusters_core)\n",
    "print('簇的db指数为',dbi)"
   ]
  },
  {
   "cell_type": "code",
   "execution_count": null,
   "metadata": {},
   "outputs": [],
   "source": []
  }
 ],
 "metadata": {
  "kernelspec": {
   "display_name": "Python 2",
   "language": "python",
   "name": "python2"
  },
  "language_info": {
   "codemirror_mode": {
    "name": "ipython",
    "version": 2
   },
   "file_extension": ".py",
   "mimetype": "text/x-python",
   "name": "python",
   "nbconvert_exporter": "python",
   "pygments_lexer": "ipython2",
   "version": "2.7.6"
  }
 },
 "nbformat": 4,
 "nbformat_minor": 0
}

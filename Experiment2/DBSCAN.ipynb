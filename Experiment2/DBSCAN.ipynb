{
 "cells": [
  {
   "cell_type": "code",
   "execution_count": 10,
   "metadata": {
    "collapsed": true
   },
   "outputs": [],
   "source": [
    "import numpy as np\n",
    "import matplotlib.pyplot as plt\n",
    "import queue\n",
    "from geopy.distance import geodesic,distance\n",
    "\"\"\"\n",
    "加载数据集    latitude longitude\n",
    "\"\"\"\n",
    "def load_dataset(filename,length):\n",
    "    r = open(filename, 'r')\n",
    "    datas = r.readlines()\n",
    "    list = []\n",
    "    del (datas[0])\n",
    "    for i in range(0, len(datas)):\n",
    "        temp_list = datas[i].split(',')\n",
    "        temp_list2 = []\n",
    "        # temp_list2.append(float(temp_list[0]))\n",
    "        temp_list2.append(float(temp_list[1]))\n",
    "        temp_list2.append(float(temp_list[2]))\n",
    "        list.append((float(temp_list[1]), float(temp_list[2])))\n",
    "        if i > length:\n",
    "            break\n",
    "    return list\n",
    "\"\"\"\n",
    "计算两个向量的距离\n",
    "\"\"\"\n",
    "def dist(vec1, vec2):\n",
    "   # dist = distance(vec1, vec2).miles#两个点通过经纬度计算距离\n",
    "    dist = np.sqrt(np.sum(np.square(np.array(vec1) - np.array(vec2)))) #计算欧式距离\n",
    "    return dist\n",
    "\"\"\"\n",
    "得到邻域内所有样本点的Id\n",
    "data: 样本点\n",
    "core_point_id  核心点\n",
    "radius  半径\n",
    "\"\"\"\n",
    "def neighbor_points(data, core_point, radius):\n",
    "    points = []\n",
    "    for i in range(0,len(data)):\n",
    "        #计算 每个点与核心点的距离  如果小于半径  则加入此簇\n",
    "        if type(core_point).__name__ == 'tuple':\n",
    "            if dist(data[i], core_point) < radius:\n",
    "                points.append(data[i])\n",
    "        else:\n",
    "            if dist(data[i], data[core_point]) < radius:\n",
    "                points.append(data[i])\n",
    "    return points\n",
    "\n",
    "\"\"\"\n",
    "扫描整个数据集，为每个数据集打上核心点，\n",
    "data: 样本集\n",
    "radius: 半径\n",
    "minPts:  最小局部密度\n",
    "\"\"\"\n",
    "import random\n",
    "def dbscan(datas, radius, minPts):\n",
    "    # 聚类个数\n",
    "    k = 0\n",
    "    # 核心对象集合\n",
    "    omega = set()\n",
    "    # 未访问样本集合\n",
    "    not_visit = set(datas)\n",
    "    # 聚类结果\n",
    "    cluster = dict()\n",
    "    cluster_core = []\n",
    "    # 遍历样本集找出所有核心对象\n",
    "    for point_id in range(0,len(datas)):\n",
    "        # 计算以point_id为核心的点 有多少  以point_id为圆心   以radius为半径\n",
    "        points = neighbor_points(datas, point_id, radius)\n",
    "        if len(points) >= minPts:\n",
    "            omega.add(datas[point_id])\n",
    "    #遍历核心对象的集合\n",
    "    while len(omega):\n",
    "        # 记录当前未访问样本集合\n",
    "        not_visit_old = not_visit\n",
    "        # 随机选取一个核心对象core\n",
    "        core = list(omega)[random.randint(0, len(omega)-1)]\n",
    "        print(core)\n",
    "        cluster_core.append(core)\n",
    "        not_visit  = not_visit - set(core)\n",
    "        # 初始化队列，存放核心对象或样本\n",
    "        core_deque = queue.Queue()\n",
    "        core_deque.put(core)\n",
    "        while not core_deque.empty():\n",
    "            coreq = core_deque.get()\n",
    "            # 找出以coreq邻域内的样本点\n",
    "            coreq_neighborhood = neighbor_points(datas, coreq, radius)\n",
    "            # 若coreq为核心对象，求其邻域内且未被访问过的样本找出\n",
    "            if len(coreq_neighborhood) >= minPts:\n",
    "                intersection = set()\n",
    "                for i in coreq_neighborhood:\n",
    "                    if i in  list(not_visit) :\n",
    "                        intersection.add(i)\n",
    "                #将领域内未被访问过的样本找到 加入队列  对聚类进行扩散\n",
    "                for i in list(intersection):\n",
    "                    core_deque.put(i)\n",
    "                    #将这些点标记为已访问\n",
    "                not_visit  = not_visit - intersection\n",
    "        #当队列再次为空时，一个聚类已经形成\n",
    "        #这个聚类内的点\n",
    "        Ck = not_visit_old - not_visit\n",
    "        omega = omega - Ck\n",
    "        cluster[k] = list(Ck)\n",
    "        k += 1\n",
    "    return cluster,cluster_core\n",
    "\n",
    "def show_dataset(dataset):\n",
    "    for item in dataset:\n",
    "        plt.scatter(item[0], item[1], c='red', alpha=1, marker='+')\n",
    "    plt.title(\"Dataset\")\n",
    "    print('Dataset done')\n",
    "    plt.show()\n",
    "\n",
    "def plotRes( clusterRes):\n",
    "\n",
    "    scatterColors = ['black', 'blue', 'green', 'yellow', 'red', 'purple', 'orange', 'brown','m', 'fuchsia', 'crimson', 'dodgerblue', 'lime', 'coral', 'peru', 'khaki','black', 'blue', 'green', 'yellow', 'red', 'purple', 'orange', 'brown','m', 'fuchsia', 'crimson', 'dodgerblue', 'lime', 'coral', 'peru', 'khaki','black', 'blue', 'green', 'yellow', 'red', 'purple', 'orange', 'brown','m', 'fuchsia', 'crimson', 'dodgerblue', 'lime', 'coral', 'peru', 'khaki']\n",
    "    for key in clusterRes.keys():\n",
    "        for item in clusterRes[key]:\n",
    "\n",
    "                plt.scatter(item[0], item[1], c=scatterColors[key], alpha=1, marker='+')\n",
    "    plt.title(\"DBSCAN Clustering\")\n",
    "    plt.show()"
   ]
  },
  {
   "cell_type": "code",
   "execution_count": 11,
   "metadata": {},
   "outputs": [],
   "source": [
    "# #聚类平均距离\n",
    "def avg_dis(cluster):\n",
    "    sum = 0.0\n",
    "    for i in cluster:\n",
    "        for j in cluster:\n",
    "            sum += dist(i,j)\n",
    "    l = len(cluster)#聚类点的个数\n",
    "    return sum/(l*(l-1))\n",
    "    \n",
    "        \n",
    "    \n",
    "def compute_Rij(i,j,k,cluster_res,cluster_core):\n",
    "    avg_ci = avg_dis(cluster_res[i])\n",
    "    avg_cj = avg_dis(cluster_res[j])                       \n",
    "    dcen = dist(cluster_core[i],cluster_core[j])#两个聚类核心点的距离\n",
    "    res = (avg_ci +avg_cj) /dcen\n",
    "    return res\n",
    "\n",
    "\n",
    "def compute_max(index ,cluster_res,k,cluster_core):\n",
    "    list_r = []\n",
    "    for j in range(0,k):\n",
    "        if index != j:\n",
    "            temp = compute_Rij(index, j, k, cluster_res, cluster_core)\n",
    "            list_r.append(temp)\n",
    "    return max(list_r)\n",
    "    \n",
    "def computer_db_index(cluster_res,cluster_core):\n",
    "    k  = len(cluster_core) #聚类总数\n",
    "    sigma_R = 0.0\n",
    "    for i in range(0,k):\n",
    "        sigma_R += compute_max(i,cluster_res,k,cluster_core)\n",
    "    dbi = float(sigma_R)/float(k)\n",
    "    return dbi\n",
    "#2000  0.003, 20    16簇\n",
    "#2000  0.0025, 20    18\n",
    "#3000  0.0025, 20 17簇\n",
    "#3000  0.002, 20 26簇\n",
    "#5000   0.0015, 25  44簇# #聚类平均距离"
   ]
  },
  {
   "cell_type": "code",
   "execution_count": 12,
   "metadata": {},
   "outputs": [
    {
     "name": "stdout",
     "output_type": "stream",
     "text": [
      "500个点   半径0.003   minpot=10\n"
     ]
    },
    {
     "name": "stdout",
     "output_type": "stream",
     "text": [
      "(-10.90427461, -37.04804767)\n"
     ]
    },
    {
     "name": "stdout",
     "output_type": "stream",
     "text": [
      "(-10.94738018, -37.07133287)\n"
     ]
    },
    {
     "name": "stdout",
     "output_type": "stream",
     "text": [
      "(-10.9213142, -37.04645695)\n"
     ]
    },
    {
     "name": "stdout",
     "output_type": "stream",
     "text": [
      "(-10.89615689, -37.0531224)\n"
     ]
    },
    {
     "name": "stdout",
     "output_type": "stream",
     "text": [
      "(-10.926169999999999, -37.102470000000004)\n(-10.89711667, -37.07969833)\n"
     ]
    },
    {
     "name": "stdout",
     "output_type": "stream",
     "text": [
      "(-10.94419909, -37.08799875)\n(-10.90847375, -37.07221199)\n(-10.94578166, -37.04610127)\n"
     ]
    },
    {
     "name": "stdout",
     "output_type": "stream",
     "text": [
      "最终分为 9 个簇\n"
     ]
    },
    {
     "data": {
      "image/png": "[encoded data removed]",
      "text/plain": [
       "<Figure size 432x288 with 1 Axes>"
      ]
     },
     "metadata": {},
     "output_type": "display_data"
    },
    {
     "name": "stdout",
     "output_type": "stream",
     "text": [
      "簇的db指数为 0.42714836971543685\n"
     ]
    }
   ],
   "source": [
    "\n",
    "data_list = load_dataset('Experiment1/data/temp.csv',500)\n",
    "print('500个点',\" \",\"半径0.003\",\" \",'minpot=10')\n",
    "clusterRes,cluster_core = dbscan(data_list, 0.003, 10)\n",
    "print('最终分为',len(clusterRes.keys()),'个簇')\n",
    "plotRes(clusterRes)\n",
    "dbi = computer_db_index(clusterRes,cluster_core)\n",
    "print('簇的db指数为',dbi)"
   ]
  },
  {
   "cell_type": "code",
   "execution_count": 13,
   "metadata": {},
   "outputs": [
    {
     "name": "stdout",
     "output_type": "stream",
     "text": [
      "2000个点   半径0.003   minpot=20\n"
     ]
    },
    {
     "name": "stdout",
     "output_type": "stream",
     "text": [
      "(-10.91116882, -37.04779298)\n"
     ]
    },
    {
     "name": "stdout",
     "output_type": "stream",
     "text": [
      "(-10.91871178, -37.0688318)\n"
     ]
    },
    {
     "name": "stdout",
     "output_type": "stream",
     "text": [
      "(-10.9225328, -37.0947912)\n"
     ]
    },
    {
     "name": "stdout",
     "output_type": "stream",
     "text": [
      "(-10.946092, -37.07143151)\n"
     ]
    },
    {
     "name": "stdout",
     "output_type": "stream",
     "text": [
      "(-10.95465304, -37.05307221)\n"
     ]
    },
    {
     "name": "stdout",
     "output_type": "stream",
     "text": [
      "(-10.92381307, -37.10144377)\n"
     ]
    },
    {
     "name": "stdout",
     "output_type": "stream",
     "text": [
      "(-10.98278258, -37.05403212)\n"
     ]
    },
    {
     "name": "stdout",
     "output_type": "stream",
     "text": [
      "(-10.92679884, -37.08050395)\n"
     ]
    },
    {
     "name": "stdout",
     "output_type": "stream",
     "text": [
      "(-10.941723800000002, -37.07856411)\n"
     ]
    },
    {
     "name": "stdout",
     "output_type": "stream",
     "text": [
      "(-10.89694333, -37.079645)\n"
     ]
    },
    {
     "name": "stdout",
     "output_type": "stream",
     "text": [
      "(-10.94339108, -37.06114982)\n"
     ]
    },
    {
     "name": "stdout",
     "output_type": "stream",
     "text": [
      "(-10.96537333, -37.04236167)\n"
     ]
    },
    {
     "name": "stdout",
     "output_type": "stream",
     "text": [
      "(-10.97584374, -37.0471631)\n"
     ]
    },
    {
     "name": "stdout",
     "output_type": "stream",
     "text": [
      "(-10.9433771, -37.08908034)\n"
     ]
    },
    {
     "name": "stdout",
     "output_type": "stream",
     "text": [
      "(-10.97005395, -37.05544473)\n"
     ]
    },
    {
     "name": "stdout",
     "output_type": "stream",
     "text": [
      "(-10.93518872, -37.062843799999996)\n"
     ]
    },
    {
     "name": "stdout",
     "output_type": "stream",
     "text": [
      "最终分为 16 个簇\n"
     ]
    },
    {
     "data": {
      "image/png": "[encoded data removed]",
      "text/plain": [
       "<Figure size 432x288 with 1 Axes>"
      ]
     },
     "metadata": {},
     "output_type": "display_data"
    },
    {
     "name": "stdout",
     "output_type": "stream",
     "text": [
      "簇的db指数为 0.7688078406398233\n"
     ]
    }
   ],
   "source": [
    "\n",
    "data_list = load_dataset('Experiment1/data/temp.csv',2000)\n",
    "print('2000个点',\" \",\"半径0.003\",\" \",'minpot=20')\n",
    "clusterRes,cluster_core = dbscan(data_list, 0.003, 20)\n",
    "print('最终分为',len(clusterRes.keys()),'个簇')\n",
    "plotRes(clusterRes)\n",
    "dbi = computer_db_index(clusterRes,cluster_core)\n",
    "print('簇的db指数为',dbi)"
   ]
  },
  {
   "cell_type": "code",
   "execution_count": 14,
   "metadata": {},
   "outputs": [
    {
     "name": "stdout",
     "output_type": "stream",
     "text": [
      "2000个点   半径0.0025   minpot=20\n"
     ]
    },
    {
     "name": "stdout",
     "output_type": "stream",
     "text": [
      "(-10.94402329, -37.05105096)\n"
     ]
    },
    {
     "name": "stdout",
     "output_type": "stream",
     "text": [
      "(-10.90530828, -37.05905009)\n"
     ]
    },
    {
     "name": "stdout",
     "output_type": "stream",
     "text": [
      "(-10.91845177, -37.05337604)\n"
     ]
    },
    {
     "name": "stdout",
     "output_type": "stream",
     "text": [
      "(-10.90771697, -37.073026399999996)\n"
     ]
    },
    {
     "name": "stdout",
     "output_type": "stream",
     "text": [
      "(-10.92640667, -37.1022)\n"
     ]
    },
    {
     "name": "stdout",
     "output_type": "stream",
     "text": [
      "(-10.914225, -37.08876667)\n"
     ]
    },
    {
     "name": "stdout",
     "output_type": "stream",
     "text": [
      "(-10.97584008, -37.04717088)\n"
     ]
    },
    {
     "name": "stdout",
     "output_type": "stream",
     "text": [
      "(-10.897135, -37.07962333)\n"
     ]
    },
    {
     "name": "stdout",
     "output_type": "stream",
     "text": [
      "(-10.91876231, -37.07035311)\n"
     ]
    },
    {
     "name": "stdout",
     "output_type": "stream",
     "text": [
      "(-10.94423757, -37.06863605)\n"
     ]
    },
    {
     "name": "stdout",
     "output_type": "stream",
     "text": [
      "(-10.89615689, -37.0531224)\n"
     ]
    },
    {
     "name": "stdout",
     "output_type": "stream",
     "text": [
      "(-10.94367587, -37.08864231)\n"
     ]
    },
    {
     "name": "stdout",
     "output_type": "stream",
     "text": [
      "(-10.93054785, -37.04621469)\n"
     ]
    },
    {
     "name": "stdout",
     "output_type": "stream",
     "text": [
      "(-10.95431153, -37.05288464)\n"
     ]
    },
    {
     "name": "stdout",
     "output_type": "stream",
     "text": [
      "(-10.93932497, -37.06376424)\n"
     ]
    },
    {
     "name": "stdout",
     "output_type": "stream",
     "text": [
      "(-10.94120926, -37.05946102)\n"
     ]
    },
    {
     "name": "stdout",
     "output_type": "stream",
     "text": [
      "(-10.9417208, -37.07949716)\n"
     ]
    },
    {
     "name": "stdout",
     "output_type": "stream",
     "text": [
      "(-10.98414212, -37.05447072)\n"
     ]
    },
    {
     "name": "stdout",
     "output_type": "stream",
     "text": [
      "最终分为 18 个簇\n"
     ]
    },
    {
     "data": {
      "image/png": "[encoded data removed]",
      "text/plain": [
       "<Figure size 432x288 with 1 Axes>"
      ]
     },
     "metadata": {},
     "output_type": "display_data"
    },
    {
     "name": "stdout",
     "output_type": "stream",
     "text": [
      "簇的db指数为 0.6601676805658377\n"
     ]
    }
   ],
   "source": [
    "#2000  0.0025, 20    18\n",
    "data_list = load_dataset('Experiment1/data/temp.csv',2000)\n",
    "print('2000个点',\" \",\"半径0.0025\",\" \",'minpot=20')\n",
    "clusterRes,cluster_core = dbscan(data_list, 0.0025, 20)\n",
    "print('最终分为',len(clusterRes.keys()),'个簇')\n",
    "plotRes(clusterRes)\n",
    "dbi = computer_db_index(clusterRes,cluster_core)\n",
    "print('簇的db指数为',dbi)"
   ]
  },
  {
   "cell_type": "code",
   "execution_count": 15,
   "metadata": {},
   "outputs": [
    {
     "name": "stdout",
     "output_type": "stream",
     "text": [
      "2000个点   半径0.002   minpot=20\n"
     ]
    },
    {
     "name": "stdout",
     "output_type": "stream",
     "text": [
      "(-10.94738018, -37.07133287)\n"
     ]
    },
    {
     "name": "stdout",
     "output_type": "stream",
     "text": [
      "(-10.90502869, -37.06230197)\n"
     ]
    },
    {
     "name": "stdout",
     "output_type": "stream",
     "text": [
      "(-10.9546446, -37.05303772)\n"
     ]
    },
    {
     "name": "stdout",
     "output_type": "stream",
     "text": [
      "(-10.89712333, -37.07968167)\n"
     ]
    },
    {
     "name": "stdout",
     "output_type": "stream",
     "text": [
      "(-10.92270667, -37.0473)\n"
     ]
    },
    {
     "name": "stdout",
     "output_type": "stream",
     "text": [
      "(-10.90213324, -37.05541074)\n"
     ]
    },
    {
     "name": "stdout",
     "output_type": "stream",
     "text": [
      "(-10.89669953, -37.05336406)\n"
     ]
    },
    {
     "name": "stdout",
     "output_type": "stream",
     "text": [
      "(-10.9075945, -37.07307496)\n"
     ]
    },
    {
     "name": "stdout",
     "output_type": "stream",
     "text": [
      "(-10.94542849, -37.04617779)\n"
     ]
    },
    {
     "name": "stdout",
     "output_type": "stream",
     "text": [
      "(-10.97714195, -37.04750332)\n"
     ]
    },
    {
     "name": "stdout",
     "output_type": "stream",
     "text": [
      "(-10.91871482, -37.07059338)\n"
     ]
    },
    {
     "name": "stdout",
     "output_type": "stream",
     "text": [
      "(-10.91855097, -37.0546007)\n"
     ]
    },
    {
     "name": "stdout",
     "output_type": "stream",
     "text": [
      "(-10.89735271, -37.05797875)\n"
     ]
    },
    {
     "name": "stdout",
     "output_type": "stream",
     "text": [
      "(-10.91056265, -37.04803685)\n"
     ]
    },
    {
     "name": "stdout",
     "output_type": "stream",
     "text": [
      "(-10.94340131, -37.08891325)\n"
     ]
    },
    {
     "name": "stdout",
     "output_type": "stream",
     "text": [
      "(-10.92616008, -37.10265139)\n"
     ]
    },
    {
     "name": "stdout",
     "output_type": "stream",
     "text": [
      "(-10.92072642, -37.08992047)\n"
     ]
    },
    {
     "name": "stdout",
     "output_type": "stream",
     "text": [
      "(-10.91845131, -37.04761147)\n"
     ]
    },
    {
     "name": "stdout",
     "output_type": "stream",
     "text": [
      "(-10.90420045, -37.04857642)\n"
     ]
    },
    {
     "name": "stdout",
     "output_type": "stream",
     "text": [
      "(-10.91564459, -37.08782872)\n"
     ]
    },
    {
     "name": "stdout",
     "output_type": "stream",
     "text": [
      "(-10.93134868, -37.04738268)\n"
     ]
    },
    {
     "name": "stdout",
     "output_type": "stream",
     "text": [
      "(-10.91480667, -37.052755)\n"
     ]
    },
    {
     "name": "stdout",
     "output_type": "stream",
     "text": [
      "最终分为 22 个簇\n"
     ]
    },
    {
     "data": {
      "image/png": "[encoded data removed]",
      "text/plain": [
       "<Figure size 432x288 with 1 Axes>"
      ]
     },
     "metadata": {},
     "output_type": "display_data"
    },
    {
     "name": "stdout",
     "output_type": "stream",
     "text": [
      "簇的db指数为 0.5153799120716268\n"
     ]
    }
   ],
   "source": [
    "#2000  0.002, 20    18\n",
    "data_list = load_dataset('Experiment1/data/temp.csv',2000)\n",
    "print('2000个点',\" \",\"半径0.002\",\" \",'minpot=20')\n",
    "clusterRes,cluster_core = dbscan(data_list, 0.002, 20)\n",
    "print('最终分为',len(clusterRes.keys()),'个簇')\n",
    "plotRes(clusterRes)\n",
    "dbi = computer_db_index(clusterRes,cluster_core)\n",
    "print('簇的db指数为',dbi)"
   ]
  },
  {
   "cell_type": "code",
   "execution_count": 16,
   "metadata": {},
   "outputs": [
    {
     "name": "stdout",
     "output_type": "stream",
     "text": [
      "2000个点   半径0.002   minpot=15\n"
     ]
    },
    {
     "name": "stdout",
     "output_type": "stream",
     "text": [
      "(-10.90366065, -37.05436829999999)\n"
     ]
    },
    {
     "name": "stdout",
     "output_type": "stream",
     "text": [
      "(-10.89686294, -37.05354465)\n"
     ]
    },
    {
     "name": "stdout",
     "output_type": "stream",
     "text": [
      "(-10.91866695, -37.0688564)\n"
     ]
    },
    {
     "name": "stdout",
     "output_type": "stream",
     "text": [
      "(-10.91012589, -37.06381172)\n"
     ]
    },
    {
     "name": "stdout",
     "output_type": "stream",
     "text": [
      "(-10.94696086, -37.07147013)\n"
     ]
    },
    {
     "name": "stdout",
     "output_type": "stream",
     "text": [
      "(-10.90442535, -37.04814392)\n"
     ]
    },
    {
     "name": "stdout",
     "output_type": "stream",
     "text": [
      "(-10.89757658, -37.05817478)\n"
     ]
    },
    {
     "name": "stdout",
     "output_type": "stream",
     "text": [
      "(-10.91797614, -37.05739711)\n"
     ]
    },
    {
     "name": "stdout",
     "output_type": "stream",
     "text": [
      "(-10.90441755, -37.06044103)\n"
     ]
    },
    {
     "name": "stdout",
     "output_type": "stream",
     "text": [
      "(-10.95455757, -37.052767200000005)\n"
     ]
    },
    {
     "name": "stdout",
     "output_type": "stream",
     "text": [
      "(-10.90772459, -37.07324626)\n"
     ]
    },
    {
     "name": "stdout",
     "output_type": "stream",
     "text": [
      "(-10.922715, -37.04712333)\n"
     ]
    },
    {
     "name": "stdout",
     "output_type": "stream",
     "text": [
      "(-10.94389148, -37.05275402)\n"
     ]
    },
    {
     "name": "stdout",
     "output_type": "stream",
     "text": [
      "(-10.89710667, -37.07973)\n"
     ]
    },
    {
     "name": "stdout",
     "output_type": "stream",
     "text": [
      "(-10.94343039, -37.08916179)\n"
     ]
    },
    {
     "name": "stdout",
     "output_type": "stream",
     "text": [
      "(-10.92574353, -37.08054311)\n"
     ]
    },
    {
     "name": "stdout",
     "output_type": "stream",
     "text": [
      "(-10.92548818, -37.10390397)\n"
     ]
    },
    {
     "name": "stdout",
     "output_type": "stream",
     "text": [
      "(-10.93175304, -37.04802048)\n"
     ]
    },
    {
     "name": "stdout",
     "output_type": "stream",
     "text": [
      "(-10.92084793, -37.09012921)\n"
     ]
    },
    {
     "name": "stdout",
     "output_type": "stream",
     "text": [
      "(-10.90810667, -37.05173333)\n"
     ]
    },
    {
     "name": "stdout",
     "output_type": "stream",
     "text": [
      "(-10.94062398, -37.05822958)\n"
     ]
    },
    {
     "name": "stdout",
     "output_type": "stream",
     "text": [
      "(-10.93934139, -37.06274211)\n"
     ]
    },
    {
     "name": "stdout",
     "output_type": "stream",
     "text": [
      "(-10.941913099999999, -37.08016328)\n"
     ]
    },
    {
     "name": "stdout",
     "output_type": "stream",
     "text": [
      "(-10.916605, -37.08805333)\n"
     ]
    },
    {
     "name": "stdout",
     "output_type": "stream",
     "text": [
      "(-10.93499496, -37.05021467)\n"
     ]
    },
    {
     "name": "stdout",
     "output_type": "stream",
     "text": [
      "(-10.97584423, -37.04716248)\n"
     ]
    },
    {
     "name": "stdout",
     "output_type": "stream",
     "text": [
      "(-10.96738833, -37.04269)\n"
     ]
    },
    {
     "name": "stdout",
     "output_type": "stream",
     "text": [
      "(-10.97055754, -37.05384824)\n"
     ]
    },
    {
     "name": "stdout",
     "output_type": "stream",
     "text": [
      "(-10.92425796, -37.04387439)\n"
     ]
    },
    {
     "name": "stdout",
     "output_type": "stream",
     "text": [
      "(-10.98372957, -37.05326019)\n"
     ]
    },
    {
     "name": "stdout",
     "output_type": "stream",
     "text": [
      "最终分为 30 个簇\n"
     ]
    },
    {
     "data": {
      "image/png": "[encoded data removed]",
      "text/plain": [
       "<Figure size 432x288 with 1 Axes>"
      ]
     },
     "metadata": {},
     "output_type": "display_data"
    },
    {
     "name": "stdout",
     "output_type": "stream",
     "text": [
      "簇的db指数为 0.6917199948841348\n"
     ]
    }
   ],
   "source": [
    "\n",
    "data_list = load_dataset('Experiment1/data/temp.csv',2000)\n",
    "print('2000个点',\" \",\"半径0.002\",\" \",'minpot=15')\n",
    "clusterRes,cluster_core = dbscan(data_list, 0.002, 15)\n",
    "print('最终分为',len(clusterRes.keys()),'个簇')\n",
    "plotRes(clusterRes)\n",
    "dbi = computer_db_index(clusterRes,cluster_core)\n",
    "print('簇的db指数为',dbi)"
   ]
  },
  {
   "cell_type": "code",
   "execution_count": 17,
   "metadata": {},
   "outputs": [
    {
     "name": "stdout",
     "output_type": "stream",
     "text": [
      "2000个点   半径0.002   minpot=15\n"
     ]
    },
    {
     "name": "stdout",
     "output_type": "stream",
     "text": [
      "(-10.95455757, -37.052767200000005)\n"
     ]
    },
    {
     "name": "stdout",
     "output_type": "stream",
     "text": [
      "(-10.9077618, -37.07321398)\n"
     ]
    },
    {
     "name": "stdout",
     "output_type": "stream",
     "text": [
      "(-10.91845177, -37.05337604)\n"
     ]
    },
    {
     "name": "stdout",
     "output_type": "stream",
     "text": [
      "(-10.92278196, -37.04734347)\n"
     ]
    },
    {
     "name": "stdout",
     "output_type": "stream",
     "text": [
      "(-10.90493773, -37.06060923)\n"
     ]
    },
    {
     "name": "stdout",
     "output_type": "stream",
     "text": [
      "(-10.91871482, -37.07059338)\n"
     ]
    },
    {
     "name": "stdout",
     "output_type": "stream",
     "text": [
      "(-10.93460012, -37.05023121)\n"
     ]
    },
    {
     "name": "stdout",
     "output_type": "stream",
     "text": [
      "(-10.90348491, -37.05422527)\n"
     ]
    },
    {
     "name": "stdout",
     "output_type": "stream",
     "text": [
      "(-10.94141139, -37.05052379999999)\n"
     ]
    },
    {
     "name": "stdout",
     "output_type": "stream",
     "text": [
      "(-10.94721781, -37.07091015)\n"
     ]
    },
    {
     "name": "stdout",
     "output_type": "stream",
     "text": [
      "(-10.94190519, -37.08004182)\n"
     ]
    },
    {
     "name": "stdout",
     "output_type": "stream",
     "text": [
      "(-10.90783923, -37.04807406)\n"
     ]
    },
    {
     "name": "stdout",
     "output_type": "stream",
     "text": [
      "(-10.897115, -37.079745)\n"
     ]
    },
    {
     "name": "stdout",
     "output_type": "stream",
     "text": [
      "(-10.92118769, -37.09078109)\n"
     ]
    },
    {
     "name": "stdout",
     "output_type": "stream",
     "text": [
      "(-10.8977761, -37.05829136)\n"
     ]
    },
    {
     "name": "stdout",
     "output_type": "stream",
     "text": [
      "(-10.90828167, -37.05265833)\n"
     ]
    },
    {
     "name": "stdout",
     "output_type": "stream",
     "text": [
      "(-10.92512667, -37.10481667)\n"
     ]
    },
    {
     "name": "stdout",
     "output_type": "stream",
     "text": [
      "(-10.93049052, -37.04655763)\n"
     ]
    },
    {
     "name": "stdout",
     "output_type": "stream",
     "text": [
      "(-10.94388244, -37.08885081)\n"
     ]
    },
    {
     "name": "stdout",
     "output_type": "stream",
     "text": [
      "(-10.97551333, -37.04656)\n"
     ]
    },
    {
     "name": "stdout",
     "output_type": "stream",
     "text": [
      "(-10.89671013, -37.05339651)\n"
     ]
    },
    {
     "name": "stdout",
     "output_type": "stream",
     "text": [
      "(-10.91794175, -37.04699362)\n"
     ]
    },
    {
     "name": "stdout",
     "output_type": "stream",
     "text": [
      "(-10.916605, -37.08805333)\n"
     ]
    },
    {
     "name": "stdout",
     "output_type": "stream",
     "text": [
      "(-10.9403891, -37.05829088)\n"
     ]
    },
    {
     "name": "stdout",
     "output_type": "stream",
     "text": [
      "(-10.93936187, -37.06374669)\n"
     ]
    },
    {
     "name": "stdout",
     "output_type": "stream",
     "text": [
      "(-10.91480667, -37.052755)\n"
     ]
    },
    {
     "name": "stdout",
     "output_type": "stream",
     "text": [
      "(-10.98278258, -37.05403212)\n"
     ]
    },
    {
     "name": "stdout",
     "output_type": "stream",
     "text": [
      "(-10.91037788, -37.06479622)\n"
     ]
    },
    {
     "name": "stdout",
     "output_type": "stream",
     "text": [
      "(-10.92535048, -37.08042683)\n"
     ]
    },
    {
     "name": "stdout",
     "output_type": "stream",
     "text": [
      "最终分为 29 个簇\n"
     ]
    },
    {
     "data": {
      "image/png": "[encoded data removed]",
      "text/plain": [
       "<Figure size 432x288 with 1 Axes>"
      ]
     },
     "metadata": {},
     "output_type": "display_data"
    },
    {
     "name": "stdout",
     "output_type": "stream",
     "text": [
      "簇的db指数为 0.649662437039423\n"
     ]
    }
   ],
   "source": [
    "\n",
    "data_list = load_dataset('Experiment1/data/temp.csv',2000)\n",
    "print('2000个点',\" \",\"半径0.002\",\" \",'minpot=15')\n",
    "clusterRes,cluster_core = dbscan(data_list, 0.002, 17)\n",
    "print('最终分为',len(clusterRes.keys()),'个簇')\n",
    "plotRes(clusterRes)\n",
    "dbi = computer_db_index(clusterRes,cluster_core)\n",
    "print('簇的db指数为',dbi)"
   ]
  },
  {
   "cell_type": "code",
   "execution_count": 19,
   "metadata": {},
   "outputs": [
    {
     "name": "stdout",
     "output_type": "stream",
     "text": [
      "2000个点   半径0.0017   minpot=20\n"
     ]
    },
    {
     "name": "stdout",
     "output_type": "stream",
     "text": [
      "(-10.94390863, -37.06926429)\n"
     ]
    },
    {
     "name": "stdout",
     "output_type": "stream",
     "text": [
      "(-10.91811121, -37.05517797)\n"
     ]
    },
    {
     "name": "stdout",
     "output_type": "stream",
     "text": [
      "(-10.89714, -37.07969333)\n"
     ]
    },
    {
     "name": "stdout",
     "output_type": "stream",
     "text": [
      "(-10.89686733, -37.05350894)\n"
     ]
    },
    {
     "name": "stdout",
     "output_type": "stream",
     "text": [
      "(-10.90231748, -37.05029076)\n"
     ]
    },
    {
     "name": "stdout",
     "output_type": "stream",
     "text": [
      "(-10.92317167, -37.04867167)\n"
     ]
    },
    {
     "name": "stdout",
     "output_type": "stream",
     "text": [
      "(-10.90760566, -37.07195547)\n"
     ]
    },
    {
     "name": "stdout",
     "output_type": "stream",
     "text": [
      "(-10.90356704, -37.06012396)\n"
     ]
    },
    {
     "name": "stdout",
     "output_type": "stream",
     "text": [
      "(-10.91518566, -37.08836594)\n"
     ]
    },
    {
     "name": "stdout",
     "output_type": "stream",
     "text": [
      "(-10.94786159, -37.07284255)\n"
     ]
    },
    {
     "name": "stdout",
     "output_type": "stream",
     "text": [
      "(-10.94315425, -37.05103445)\n"
     ]
    },
    {
     "name": "stdout",
     "output_type": "stream",
     "text": [
      "(-10.94340131, -37.08891325)\n"
     ]
    },
    {
     "name": "stdout",
     "output_type": "stream",
     "text": [
      "(-10.90366, -37.05435948)\n"
     ]
    },
    {
     "name": "stdout",
     "output_type": "stream",
     "text": [
      "(-10.94549765, -37.04634277)\n"
     ]
    },
    {
     "name": "stdout",
     "output_type": "stream",
     "text": [
      "(-10.89768076, -37.058279299999995)\n"
     ]
    },
    {
     "name": "stdout",
     "output_type": "stream",
     "text": [
      "(-10.90934486, -37.04801046)\n"
     ]
    },
    {
     "name": "stdout",
     "output_type": "stream",
     "text": [
      "(-10.92662572, -37.10231703)\n"
     ]
    },
    {
     "name": "stdout",
     "output_type": "stream",
     "text": [
      "(-10.91930848, -37.06974579)\n"
     ]
    },
    {
     "name": "stdout",
     "output_type": "stream",
     "text": [
      "(-10.955252999999999, -37.0534929)\n"
     ]
    },
    {
     "name": "stdout",
     "output_type": "stream",
     "text": [
      "(-10.92089667, -37.09023)\n"
     ]
    },
    {
     "name": "stdout",
     "output_type": "stream",
     "text": [
      "(-10.97710904, -37.04750804)\n"
     ]
    },
    {
     "name": "stdout",
     "output_type": "stream",
     "text": [
      "最终分为 21 个簇\n"
     ]
    },
    {
     "data": {
      "image/png": "[encoded data removed]",
      "text/plain": [
       "<Figure size 432x288 with 1 Axes>"
      ]
     },
     "metadata": {},
     "output_type": "display_data"
    },
    {
     "name": "stdout",
     "output_type": "stream",
     "text": [
      "簇的db指数为 0.42745177867378803\n"
     ]
    }
   ],
   "source": [
    "#3000  0.0025, 20 17簇\n",
    "#3000  0.002, 20 26簇\n",
    "#5000   0.0015, 25  44簇# #聚类平均距离\n",
    "data_list = load_dataset('Experiment1/data/temp.csv',2000)\n",
    "print('2000个点',\" \",\"半径0.0017\",\" \",'minpot=20')\n",
    "clusterRes,cluster_core = dbscan(data_list, 0.0017, 20)\n",
    "print('最终分为',len(clusterRes.keys()),'个簇')\n",
    "plotRes(clusterRes)\n",
    "dbi = computer_db_index(clusterRes,cluster_core)\n",
    "print('簇的db指数为',dbi)"
   ]
  },
  {
   "cell_type": "code",
   "execution_count": 20,
   "metadata": {},
   "outputs": [
    {
     "name": "stdout",
     "output_type": "stream",
     "text": [
      "3000个点   半径0.0017   minpot=20\n"
     ]
    },
    {
     "name": "stdout",
     "output_type": "stream",
     "text": [
      "(-10.94488887, -37.04645904)\n"
     ]
    },
    {
     "name": "stdout",
     "output_type": "stream",
     "text": [
      "(-10.9024154, -37.04992892)\n"
     ]
    },
    {
     "name": "stdout",
     "output_type": "stream",
     "text": [
      "(-10.94982137, -37.07167614)\n"
     ]
    },
    {
     "name": "stdout",
     "output_type": "stream",
     "text": [
      "(-10.89684478, -37.05350241)\n"
     ]
    },
    {
     "name": "stdout",
     "output_type": "stream",
     "text": [
      "(-10.91279833, -37.05271833)\n"
     ]
    },
    {
     "name": "stdout",
     "output_type": "stream",
     "text": [
      "(-10.90776883, -37.07326307)\n"
     ]
    },
    {
     "name": "stdout",
     "output_type": "stream",
     "text": [
      "(-10.92635, -37.10244333)\n"
     ]
    },
    {
     "name": "stdout",
     "output_type": "stream",
     "text": [
      "(-10.91792517, -37.06924827)\n"
     ]
    },
    {
     "name": "stdout",
     "output_type": "stream",
     "text": [
      "(-10.90297727, -37.05903632)\n"
     ]
    },
    {
     "name": "stdout",
     "output_type": "stream",
     "text": [
      "(-10.94077575, -37.07936)\n"
     ]
    },
    {
     "name": "stdout",
     "output_type": "stream",
     "text": [
      "(-10.97574333, -37.047095)\n"
     ]
    },
    {
     "name": "stdout",
     "output_type": "stream",
     "text": [
      "(-10.94394182, -37.08949531)\n"
     ]
    },
    {
     "name": "stdout",
     "output_type": "stream",
     "text": [
      "(-10.89708667, -37.07974)\n"
     ]
    },
    {
     "name": "stdout",
     "output_type": "stream",
     "text": [
      "(-10.93473136, -37.05028841)\n"
     ]
    },
    {
     "name": "stdout",
     "output_type": "stream",
     "text": [
      "(-10.92072642, -37.08992047)\n"
     ]
    },
    {
     "name": "stdout",
     "output_type": "stream",
     "text": [
      "(-10.96771551, -37.04169105)\n"
     ]
    },
    {
     "name": "stdout",
     "output_type": "stream",
     "text": [
      "(-10.93134868, -37.04738268)\n"
     ]
    },
    {
     "name": "stdout",
     "output_type": "stream",
     "text": [
      "(-10.89735271, -37.05797875)\n"
     ]
    },
    {
     "name": "stdout",
     "output_type": "stream",
     "text": [
      "(-10.91861719, -37.05800347)\n"
     ]
    },
    {
     "name": "stdout",
     "output_type": "stream",
     "text": [
      "(-10.94062398, -37.05822958)\n"
     ]
    },
    {
     "name": "stdout",
     "output_type": "stream",
     "text": [
      "(-10.9227925, -37.04731602)\n"
     ]
    },
    {
     "name": "stdout",
     "output_type": "stream",
     "text": [
      "(-10.92620254, -37.08044437)\n"
     ]
    },
    {
     "name": "stdout",
     "output_type": "stream",
     "text": [
      "(-10.98293633, -37.05408188)\n"
     ]
    },
    {
     "name": "stdout",
     "output_type": "stream",
     "text": [
      "(-10.94338843, -37.06091866)\n"
     ]
    },
    {
     "name": "stdout",
     "output_type": "stream",
     "text": [
      "(-10.93795605, -37.06293748)\n"
     ]
    },
    {
     "name": "stdout",
     "output_type": "stream",
     "text": [
      "(-10.95581651, -37.05337069)\n"
     ]
    },
    {
     "name": "stdout",
     "output_type": "stream",
     "text": [
      "(-10.97067294, -37.05379517)\n"
     ]
    },
    {
     "name": "stdout",
     "output_type": "stream",
     "text": [
      "(-10.92303774, -37.04480885)\n"
     ]
    },
    {
     "name": "stdout",
     "output_type": "stream",
     "text": [
      "(-10.91037424, -37.06384896)\n"
     ]
    },
    {
     "name": "stdout",
     "output_type": "stream",
     "text": [
      "(-10.91855532, -37.0645434)\n"
     ]
    },
    {
     "name": "stdout",
     "output_type": "stream",
     "text": [
      "(-10.91495333, -37.08899333)\n"
     ]
    },
    {
     "name": "stdout",
     "output_type": "stream",
     "text": [
      "最终分为 31 个簇\n"
     ]
    },
    {
     "data": {
      "image/png": "[encoded data removed]",
      "text/plain": [
       "<Figure size 432x288 with 1 Axes>"
      ]
     },
     "metadata": {},
     "output_type": "display_data"
    },
    {
     "name": "stdout",
     "output_type": "stream",
     "text": [
      "簇的db指数为 0.575579216305195\n"
     ]
    }
   ],
   "source": [
    "#3000  0.0025, 20 17簇\n",
    "\n",
    "#3000  0.002, 20 26簇\n",
    "\n",
    "#5000   0.0015, 25  44簇# #聚类平均距离\n",
    "\n",
    "data_list = load_dataset('Experiment1/data/temp.csv',3000)\n",
    "print('3000个点',\" \",\"半径0.0017\",\" \",'minpot=20')\n",
    "clusterRes,cluster_core = dbscan(data_list, 0.0017, 20)\n",
    "print('最终分为',len(clusterRes.keys()),'个簇')\n",
    "plotRes(clusterRes)\n",
    "dbi = computer_db_index(clusterRes,cluster_core)\n",
    "print('簇的db指数为',dbi)"
   ]
  },
  {
   "cell_type": "code",
   "execution_count": null,
   "metadata": {},
   "outputs": [],
   "source": []
  },
  {
   "cell_type": "code",
   "execution_count": 21,
   "metadata": {},
   "outputs": [
    {
     "name": "stdout",
     "output_type": "stream",
     "text": [
      "3000个点   半径0.0015   minpot=25\n"
     ]
    },
    {
     "name": "stdout",
     "output_type": "stream",
     "text": [
      "(-10.90849833, -37.052605)\n"
     ]
    },
    {
     "name": "stdout",
     "output_type": "stream",
     "text": [
      "(-10.91418833, -37.08882333)\n"
     ]
    },
    {
     "name": "stdout",
     "output_type": "stream",
     "text": [
      "(-10.93908033, -37.06297981)\n"
     ]
    },
    {
     "name": "stdout",
     "output_type": "stream",
     "text": [
      "(-10.94116053, -37.05018967)\n"
     ]
    },
    {
     "name": "stdout",
     "output_type": "stream",
     "text": [
      "(-10.90297148, -37.05840861)\n"
     ]
    },
    {
     "name": "stdout",
     "output_type": "stream",
     "text": [
      "(-10.89684201, -37.05356829)\n"
     ]
    },
    {
     "name": "stdout",
     "output_type": "stream",
     "text": [
      "(-10.94523651, -37.04638459)\n"
     ]
    },
    {
     "name": "stdout",
     "output_type": "stream",
     "text": [
      "(-10.90771621, -37.07303243)\n"
     ]
    },
    {
     "name": "stdout",
     "output_type": "stream",
     "text": [
      "(-10.95443078, -37.05304593)\n"
     ]
    },
    {
     "name": "stdout",
     "output_type": "stream",
     "text": [
      "(-10.91848922, -37.04832086)\n"
     ]
    },
    {
     "name": "stdout",
     "output_type": "stream",
     "text": [
      "(-10.97584207, -37.04716897)\n"
     ]
    },
    {
     "name": "stdout",
     "output_type": "stream",
     "text": [
      "(-10.926205, -37.10234833)\n"
     ]
    },
    {
     "name": "stdout",
     "output_type": "stream",
     "text": [
      "(-10.94778207, -37.07323872)\n"
     ]
    },
    {
     "name": "stdout",
     "output_type": "stream",
     "text": [
      "(-10.90232844, -37.05039233)\n"
     ]
    },
    {
     "name": "stdout",
     "output_type": "stream",
     "text": [
      "(-10.90698404, -37.04826304)\n"
     ]
    },
    {
     "name": "stdout",
     "output_type": "stream",
     "text": [
      "(-10.96776304, -37.04165778)\n"
     ]
    },
    {
     "name": "stdout",
     "output_type": "stream",
     "text": [
      "(-10.91865205, -37.06996072)\n"
     ]
    },
    {
     "name": "stdout",
     "output_type": "stream",
     "text": [
      "(-10.89783221, -37.08008072)\n"
     ]
    },
    {
     "name": "stdout",
     "output_type": "stream",
     "text": [
      "(-10.92028167, -37.08961667)\n"
     ]
    },
    {
     "name": "stdout",
     "output_type": "stream",
     "text": [
      "(-10.98278258, -37.05403212)\n"
     ]
    },
    {
     "name": "stdout",
     "output_type": "stream",
     "text": [
      "(-10.92284386, -37.04740164)\n"
     ]
    },
    {
     "name": "stdout",
     "output_type": "stream",
     "text": [
      "(-10.91805938, -37.07302097)\n"
     ]
    },
    {
     "name": "stdout",
     "output_type": "stream",
     "text": [
      "(-10.93220215, -37.04813782)\n"
     ]
    },
    {
     "name": "stdout",
     "output_type": "stream",
     "text": [
      "(-10.93369918, -37.04972937)\n"
     ]
    },
    {
     "name": "stdout",
     "output_type": "stream",
     "text": [
      "(-10.91851866, -37.05669263)\n"
     ]
    },
    {
     "name": "stdout",
     "output_type": "stream",
     "text": [
      "(-10.95253669, -37.05899601)\n"
     ]
    },
    {
     "name": "stdout",
     "output_type": "stream",
     "text": [
      "(-10.9435854, -37.08861281)\n"
     ]
    },
    {
     "name": "stdout",
     "output_type": "stream",
     "text": [
      "(-10.91043138, -37.06633609)\n"
     ]
    },
    {
     "name": "stdout",
     "output_type": "stream",
     "text": [
      "(-10.9243918, -37.08056434)\n"
     ]
    },
    {
     "name": "stdout",
     "output_type": "stream",
     "text": [
      "(-10.97056, -37.05371667)\n"
     ]
    },
    {
     "name": "stdout",
     "output_type": "stream",
     "text": [
      "(-10.94239054, -37.07782323)\n"
     ]
    },
    {
     "name": "stdout",
     "output_type": "stream",
     "text": [
      "(-10.98720333, -37.05178)\n"
     ]
    },
    {
     "name": "stdout",
     "output_type": "stream",
     "text": [
      "(-10.94273035, -37.06080869)\n"
     ]
    },
    {
     "name": "stdout",
     "output_type": "stream",
     "text": [
      "(-10.91048471, -37.06414258)\n"
     ]
    },
    {
     "name": "stdout",
     "output_type": "stream",
     "text": [
      "(-10.94424014, -37.06863994)\n"
     ]
    },
    {
     "name": "stdout",
     "output_type": "stream",
     "text": [
      "(-10.93366932, -37.05325487)\n"
     ]
    },
    {
     "name": "stdout",
     "output_type": "stream",
     "text": [
      "(-10.95654706, -37.06937055)\n"
     ]
    },
    {
     "name": "stdout",
     "output_type": "stream",
     "text": [
      "(-10.92384811, -37.04462568)\n"
     ]
    },
    {
     "name": "stdout",
     "output_type": "stream",
     "text": [
      "(-10.93817605, -37.08192953)\n"
     ]
    },
    {
     "name": "stdout",
     "output_type": "stream",
     "text": [
      "(-10.91143227, -37.05271666)\n"
     ]
    },
    {
     "name": "stdout",
     "output_type": "stream",
     "text": [
      "(-10.92850483, -37.04377516)\n"
     ]
    },
    {
     "name": "stdout",
     "output_type": "stream",
     "text": [
      "(-10.90845521, -37.08610801)\n"
     ]
    },
    {
     "name": "stdout",
     "output_type": "stream",
     "text": [
      "(-10.93492341, -37.06276569)\n"
     ]
    },
    {
     "name": "stdout",
     "output_type": "stream",
     "text": [
      "(-10.94268457, -37.05650941)\n"
     ]
    },
    {
     "name": "stdout",
     "output_type": "stream",
     "text": [
      "最终分为 44 个簇\n"
     ]
    },
    {
     "data": {
      "image/png": "[encoded data removed]",
      "text/plain": [
       "<Figure size 432x288 with 1 Axes>"
      ]
     },
     "metadata": {},
     "output_type": "display_data"
    },
    {
     "name": "stdout",
     "output_type": "stream",
     "text": [
      "簇的db指数为 0.6683937110846576\n"
     ]
    }
   ],
   "source": [
    "#5000   0.0015, 25  44簇#\n",
    "data_list = load_dataset('Experiment1/data/temp.csv',5000)\n",
    "print('3000个点',\" \",\"半径0.0015\",\" \",'minpot=25')\n",
    "clusterRes,cluster_core = dbscan(data_list, 0.0015, 25)\n",
    "print('最终分为',len(clusterRes.keys()),'个簇')\n",
    "plotRes(clusterRes)\n",
    "dbi = computer_db_index(clusterRes,cluster_core)\n",
    "print('簇的db指数为',dbi)"
   ]
  }
 ],
 "metadata": {
  "kernelspec": {
   "display_name": "Python 2",
   "language": "python",
   "name": "python2"
  },
  "language_info": {
   "codemirror_mode": {
    "name": "ipython",
    "version": 2
   },
   "file_extension": ".py",
   "mimetype": "text/x-python",
   "name": "python",
   "nbconvert_exporter": "python",
   "pygments_lexer": "ipython2",
   "version": "2.7.6"
  }
 },
 "nbformat": 4,
 "nbformat_minor": 0
}

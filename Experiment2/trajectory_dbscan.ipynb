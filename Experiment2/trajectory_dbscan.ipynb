{
 "cells": [
  {
   "cell_type": "code",
   "execution_count": 9,
   "metadata": {
    "collapsed": true
   },
   "outputs": [],
   "source": [
    "import matplotlib.pyplot as plt\n",
    "import queue\n",
    "\"\"\"\n",
    "加载数据集  字典  key为track_id  value为[]\n",
    "\"\"\"\n",
    "\n",
    "\n",
    "def load_dataset():\n",
    "    r1 = open('Experiment2/data/go_track_trackspoints.csv', 'r')\n",
    "    r2 = open('Experiment2/data/go_track_tracks.csv', 'r')\n",
    "    go_track_trackspoints = r1.readlines()\n",
    "    go_track_tracks = r2.readlines()\n",
    "    del (go_track_trackspoints[0])\n",
    "    del (go_track_tracks[0])\n",
    "    trajectory_dict = dict()\n",
    "    for data in go_track_tracks:\n",
    "        temp_list = data.split(',')\n",
    "        points_list = []\n",
    "        for j in go_track_trackspoints:\n",
    "            temp_list2 = j.split(',')\n",
    "            if temp_list[0] == temp_list2[3]:\n",
    "                points_list.append((float(temp_list2[1]),float(temp_list2[2])))\n",
    "        trajectory_dict[temp_list[0]] = points_list\n",
    "    return trajectory_dict\n",
    "trajectory_dict = load_dataset()"
   ]
  },
  {
   "cell_type": "code",
   "execution_count": 13,
   "metadata": {},
   "outputs": [],
   "source": [
    "import numpy as np\n",
    "\n",
    "\"\"\"\n",
    "计算两个点的距离\n",
    "\"\"\"\n",
    "def dist(vec1, vec2):\n",
    "    dist = np.sqrt(np.sum(np.square(np.array(vec1) - np.array(vec2)))) #计算欧式距离\n",
    "    return dist\n",
    "\n",
    "\n",
    "def tracksDist(track1,track2):\n",
    "    len1 = len(track1)\n",
    "    len2 = len(track2)\n",
    "    step  = np.zeros([len1+1,len2 +1])\n",
    "    step = step.tolist()\n",
    "    for i in range(0,len1+1):\n",
    "        step[i][0] = i*10\n",
    "    for i in range(0, len2 + 1):\n",
    "        step[0][i] = i * 10\n",
    "\n",
    "    for i in range(0,len1):\n",
    "        for j in range(0,len2):\n",
    "            distance =  dist(track1[i],track2[j])\n",
    "            replace = step[i][j] + distance\n",
    "            insert = step[i][j + 1] + distance\n",
    "            delete = step[i + 1][j] + distance\n",
    "            min = 0.0\n",
    "            if replace >insert:\n",
    "                min = insert\n",
    "            else:\n",
    "                min = replace\n",
    "            if delete <min:\n",
    "                min = delete\n",
    "            step[i + 1][j + 1] = min\n",
    "    return step[len1][len2]\n",
    "\n",
    "\"\"\"\n",
    "得到邻域内所有轨迹\n",
    "data: 样本点\n",
    "core_point_id  核心点\n",
    "radius  半径\n",
    "\"\"\"\n",
    "def neighbor_points(data, core_point_id, radius):\n",
    "    tracks = []\n",
    "    for key, value in data.items():\n",
    "        #计算 每个点与核心点的距离  如果小于半径  则加入此簇\n",
    "        if tracksDist(value,data[core_point_id]) < radius:\n",
    "            tracks.append(key)\n",
    "    return np.asarray(tracks)\n",
    "\n",
    "import random\n",
    "import queue\n",
    "def dbscan(datas, radius, minPts):\n",
    "    # 聚类个数\n",
    "    k = 0\n",
    "    # 核心对象集合\n",
    "    omega = set()\n",
    "    # 未访问样本集合\n",
    "    not_visit = set()\n",
    "    for i in datas.keys():\n",
    "        not_visit.add(i)\n",
    "    # 聚类结果\n",
    "    cluster = dict()\n",
    "    cluster_core = []\n",
    "    # 遍历样本集找出所有核心对象\n",
    "\n",
    "    for key, value in datas.items():\n",
    "        # 计算以point_id为核心的点 有多少  以point_id为圆心   以radius为半径\n",
    "        tracks = neighbor_points(datas, key, radius)\n",
    "        if len(tracks) >= minPts:\n",
    "            omega.add(key)\n",
    "    #遍历核心对象的集合\n",
    "    while len(omega):\n",
    "        # 记录当前未访问样本集合\n",
    "        not_visit_old = not_visit\n",
    "        # 随机选取一个核心对象core\n",
    "        core = list(omega)[random.randint(0, len(omega)-1)]\n",
    "        cluster_core.append(core)\n",
    "        not_visit  = not_visit - set(core)\n",
    "        # 初始化队列，存放核心对象或样本\n",
    "        core_deque = queue.Queue()\n",
    "        core_deque.put(core)\n",
    "        while not core_deque.empty():\n",
    "            coreq = core_deque.get()\n",
    "            # 找出以coreq邻域内的样本点\n",
    "            coreq_neighborhood = neighbor_points(datas, coreq, radius)\n",
    "            # 若coreq为核心对象，求其邻域内且未被访问过的样本找出\n",
    "            if len(coreq_neighborhood) >= minPts:\n",
    "                intersection = set()\n",
    "                for i in coreq_neighborhood:\n",
    "                    if i in  list(not_visit) :\n",
    "                        intersection.add(i)\n",
    "                #将领域内未被访问过的样本找到 加入队列  对聚类进行扩散\n",
    "                for i in list(intersection):\n",
    "                    core_deque.put(i)\n",
    "                    #将这些点标记为已访问\n",
    "                not_visit  = not_visit - intersection\n",
    "        #当队列再次为空时，一个聚类已经形成\n",
    "\n",
    "        #这个聚类内的点\n",
    "        Ck = not_visit_old - not_visit\n",
    "        omega = omega - Ck\n",
    "        cluster[k] = list(Ck)\n",
    "        k +=1\n",
    "    return cluster,cluster_core\n",
    "def plotRes(clusterRes,datas):\n",
    "\n",
    "    scatterColors = ['black', 'blue', 'green', 'yellow', 'red', 'purple', 'orange', 'brown','m', 'fuchsia', 'crimson', 'dodgerblue', 'lime', 'coral', 'peru', 'khaki','black', 'blue', 'green', 'yellow', 'red', 'purple', 'orange', 'brown','m', 'fuchsia', 'crimson', 'dodgerblue', 'lime', 'coral', 'peru', 'khaki','black', 'blue', 'green', 'yellow', 'red', 'purple', 'orange', 'brown','m', 'fuchsia', 'crimson', 'dodgerblue', 'lime', 'coral', 'peru', 'khaki']\n",
    "    for key in clusterRes.keys():\n",
    "        for item in clusterRes[key]:\n",
    "            for data in datas[item]:\n",
    "\n",
    "                plt.scatter(data[0], data[1], c=scatterColors[key], alpha=1, marker='+')\n",
    "    plt.title(\"DBSCAN Clustering\")\n",
    "    plt.show()\n"
   ]
  },
  {
   "cell_type": "code",
   "execution_count": 14,
   "metadata": {},
   "outputs": [
    {
     "name": "stdout",
     "output_type": "stream",
     "text": [
      "15条轨迹   半径0.5   minpot=2\n"
     ]
    },
    {
     "data": {
      "image/png": "[encoded data removed]",
      "text/plain": [
       "<Figure size 432x288 with 1 Axes>"
      ]
     },
     "metadata": {},
     "output_type": "display_data"
    },
    {
     "name": "stdout",
     "output_type": "stream",
     "text": [
      "最终分为 4 个簇\n簇 0 内的轨迹条数 2\n簇 1 内的轨迹条数 3\n簇 2 内的轨迹条数 4\n簇 3 内的轨迹条数 4\n"
     ]
    }
   ],
   "source": [
    "print('15条轨迹',\" \",\"半径0.5\",\" \",'minpot=2')\n",
    "temp = {}\n",
    "i =0\n",
    "for key,value in trajectory_dict.items():\n",
    "        temp[key] = value\n",
    "        i+=1\n",
    "        if i>15:\n",
    "            break\n",
    "cluster,cluster_core = dbscan(temp,0.5,2)\n",
    "plotRes(cluster,temp)\n",
    "print('最终分为',len(cluster.keys()),'个簇')\n",
    "for i,j in cluster.items():\n",
    "    print('簇',i,'内的轨迹条数',len(j))"
   ]
  },
  {
   "cell_type": "code",
   "execution_count": 17,
   "metadata": {},
   "outputs": [
    {
     "name": "stdout",
     "output_type": "stream",
     "text": [
      "20条轨迹   半径0.5   minpot=2\n"
     ]
    },
    {
     "data": {
      "image/png": "[encoded data removed]",
      "text/plain": [
       "<Figure size 432x288 with 1 Axes>"
      ]
     },
     "metadata": {},
     "output_type": "display_data"
    },
    {
     "name": "stdout",
     "output_type": "stream",
     "text": [
      "最终分为 3 个簇\n簇 0 内的轨迹条数 5\n簇 1 内的轨迹条数 3\n簇 2 内的轨迹条数 4\n"
     ]
    }
   ],
   "source": [
    "print('20条轨迹',\" \",\"半径0.5\",\" \",'minpot=2')\n",
    "temp = {}\n",
    "i =0\n",
    "for key,value in trajectory_dict.items():\n",
    "        temp[key] = value\n",
    "        i+=1\n",
    "        if i>20:\n",
    "            break\n",
    "cluster,cluster_core = dbscan(temp,0.4,2)\n",
    "plotRes(cluster,temp)\n",
    "print('最终分为',len(cluster.keys()),'个簇')\n",
    "for i,j in cluster.items():\n",
    "    print('簇',i,'内的轨迹条数',len(j))"
   ]
  },
  {
   "cell_type": "code",
   "execution_count": 18,
   "metadata": {},
   "outputs": [
    {
     "name": "stdout",
     "output_type": "stream",
     "text": [
      "30条轨迹   半径0.4   minpot=2\n"
     ]
    },
    {
     "data": {
      "image/png": "[encoded data removed]",
      "text/plain": [
       "<Figure size 432x288 with 1 Axes>"
      ]
     },
     "metadata": {},
     "output_type": "display_data"
    },
    {
     "name": "stdout",
     "output_type": "stream",
     "text": [
      "最终分为 7 个簇\n簇 0 内的轨迹条数 5\n簇 1 内的轨迹条数 2\n簇 2 内的轨迹条数 7\n簇 3 内的轨迹条数 2\n簇 4 内的轨迹条数 4\n簇 5 内的轨迹条数 2\n簇 6 内的轨迹条数 2\n"
     ]
    }
   ],
   "source": [
    "print('30条轨迹',\" \",\"半径0.4\",\" \",'minpot=2')\n",
    "temp = {}\n",
    "i =0\n",
    "for key,value in trajectory_dict.items():\n",
    "        temp[key] = value\n",
    "        i+=1\n",
    "        if i>30:\n",
    "            break\n",
    "cluster,cluster_core = dbscan(temp,0.4,2)\n",
    "plotRes(cluster,temp)\n",
    "print('最终分为',len(cluster.keys()),'个簇')\n",
    "for i,j in cluster.items():\n",
    "    print('簇',i,'内的轨迹条数',len(j))"
   ]
  },
  {
   "cell_type": "code",
   "execution_count": 24,
   "metadata": {},
   "outputs": [
    {
     "name": "stdout",
     "output_type": "stream",
     "text": [
      "20条轨迹   半径0.5   minpot=1\n"
     ]
    },
    {
     "data": {
      "image/png": "[encoded data removed]",
      "text/plain": [
       "<Figure size 432x288 with 1 Axes>"
      ]
     },
     "metadata": {},
     "output_type": "display_data"
    },
    {
     "name": "stdout",
     "output_type": "stream",
     "text": [
      "最终分为 13 个簇\n簇 0 内的轨迹条数 6\n簇 1 内的轨迹条数 1\n簇 2 内的轨迹条数 1\n簇 3 内的轨迹条数 2\n簇 4 内的轨迹条数 1\n簇 5 内的轨迹条数 1\n簇 6 内的轨迹条数 1\n簇 7 内的轨迹条数 2\n簇 8 内的轨迹条数 1\n簇 9 内的轨迹条数 1\n簇 10 内的轨迹条数 2\n簇 11 内的轨迹条数 1\n簇 12 内的轨迹条数 1\n"
     ]
    }
   ],
   "source": [
    "print('20条轨迹',\" \",\"半径0.5\",\" \",'minpot=1')\n",
    "temp = {}\n",
    "i =0\n",
    "for key,value in trajectory_dict.items():\n",
    "        temp[key] = value\n",
    "        i+=1\n",
    "        if i>20:\n",
    "            break\n",
    "cluster,cluster_core = dbscan(temp,0.5,1)\n",
    "plotRes(cluster,temp)\n",
    "print('最终分为',len(cluster.keys()),'个簇')\n",
    "for i,j in cluster.items():\n",
    "    print('簇',i,'内的轨迹条数',len(j))"
   ]
  },
  {
   "cell_type": "code",
   "execution_count": null,
   "metadata": {},
   "outputs": [],
   "source": []
  }
 ],
 "metadata": {
  "kernelspec": {
   "display_name": "Python 2",
   "language": "python",
   "name": "python2"
  },
  "language_info": {
   "codemirror_mode": {
    "name": "ipython",
    "version": 2
   },
   "file_extension": ".py",
   "mimetype": "text/x-python",
   "name": "python",
   "nbconvert_exporter": "python",
   "pygments_lexer": "ipython2",
   "version": "2.7.6"
  }
 },
 "nbformat": 4,
 "nbformat_minor": 0
}
